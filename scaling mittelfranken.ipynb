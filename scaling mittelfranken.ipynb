{
 "cells": [
  {
   "cell_type": "markdown",
   "metadata": {},
   "source": [
    "#### Scaling main - Mittelfranken"
   ]
  },
  {
   "cell_type": "code",
   "execution_count": 2,
   "metadata": {},
   "outputs": [],
   "source": [
    "import pickle\n",
    "import numpy as np\n",
    "from scipy.linalg import null_space"
   ]
  },
  {
   "cell_type": "code",
   "execution_count": 3,
   "metadata": {},
   "outputs": [
    {
     "name": "stdout",
     "output_type": "stream",
     "text": [
      "Q matrix which we got from adjacencies:\n",
      "[[ 1 -1  0  0  0  0  0  0  0  0  0  0]\n",
      " [-1  5  0  0  0 -1  0 -1  0 -1  0 -1]\n",
      " [ 0  0  5 -1  0 -1 -1 -1 -1  0  0  0]\n",
      " [ 0  0 -1  4 -1 -1  0  0 -1  0  0  0]\n",
      " [ 0  0  0 -1  3 -1  0  0 -1  0  0  0]\n",
      " [ 0 -1 -1 -1 -1  7  0 -1 -1 -1  0  0]\n",
      " [ 0  0 -1  0  0  0  3  0 -1 -1  0  0]\n",
      " [ 0 -1 -1  0  0 -1  0  3  0  0  0  0]\n",
      " [ 0  0 -1 -1 -1 -1 -1  0  7 -1 -1  0]\n",
      " [ 0 -1  0  0  0 -1 -1  0 -1  6 -1 -1]\n",
      " [ 0  0  0  0  0  0  0  0 -1 -1  2  0]\n",
      " [ 0 -1  0  0  0  0  0  0  0 -1  0  2]]\n"
     ]
    }
   ],
   "source": [
    "# Load matrix from file\n",
    "with open('matrix_mittelfranken.pkl', 'rb') as f:\n",
    "    Q = pickle.load(f)\n",
    "\n",
    "print(\"Q matrix which we got from adjacencies:\")\n",
    "print(Q)"
   ]
  },
  {
   "cell_type": "code",
   "execution_count": 4,
   "metadata": {},
   "outputs": [
    {
     "data": {
      "text/plain": [
       "6.559690316036448e-11"
      ]
     },
     "execution_count": 4,
     "metadata": {},
     "output_type": "execute_result"
    }
   ],
   "source": [
    "# get the determinant of the matrix\n",
    "det = np.linalg.det(Q)\n",
    "det"
   ]
  },
  {
   "cell_type": "markdown",
   "metadata": {},
   "source": [
    "#### Compute the generalized inverse\n",
    "###### The generalized inverse of a matrix, also known as the Moore-Penrose inverse (oseudo Inverse)"
   ]
  },
  {
   "cell_type": "code",
   "execution_count": 5,
   "metadata": {},
   "outputs": [],
   "source": [
    "# Compute SVD of Q\n",
    "U, S, Vt = np.linalg.svd(Q)"
   ]
  },
  {
   "cell_type": "code",
   "execution_count": 6,
   "metadata": {},
   "outputs": [
    {
     "data": {
      "text/plain": [
       "1.4901161193847656e-08"
      ]
     },
     "execution_count": 6,
     "metadata": {},
     "output_type": "execute_result"
    }
   ],
   "source": [
    "# get the machine epsilon\n",
    "eps = np.finfo(float).eps\n",
    "tol = np.sqrt(eps)\n",
    "tol"
   ]
  },
  {
   "cell_type": "code",
   "execution_count": 7,
   "metadata": {},
   "outputs": [],
   "source": [
    "# Calculate inverse of singular values\n",
    "S_inv = np.where(S > tol, 1/S, 0)"
   ]
  },
  {
   "cell_type": "code",
   "execution_count": 8,
   "metadata": {},
   "outputs": [],
   "source": [
    "# Construct the generalized inverse\n",
    "Q_inv = Vt.T @ np.diag(S_inv) @ U.T"
   ]
  },
  {
   "cell_type": "code",
   "execution_count": 9,
   "metadata": {},
   "outputs": [
    {
     "name": "stdout",
     "output_type": "stream",
     "text": [
      "Generalized Inverse of Q:\n",
      "[[ 1.05878351e+00  1.42116845e-01 -1.42710374e-01 -1.61063011e-01\n",
      "  -1.65651170e-01 -1.01535805e-01 -1.54777470e-01 -6.18208890e-02\n",
      "  -1.51021361e-01 -8.72673431e-02 -1.60811019e-01 -1.42419156e-02]\n",
      " [ 1.42116845e-01  2.25450178e-01 -5.93770405e-02 -7.77296774e-02\n",
      "  -8.23178366e-02 -1.82024717e-02 -7.14441370e-02  2.15124443e-02\n",
      "  -6.76880274e-02 -3.93400975e-03 -7.74776852e-02  6.90914177e-02]\n",
      " [-1.42710374e-01 -5.93770405e-02  2.14291205e-01  4.31457339e-02\n",
      "   3.59366184e-04  1.92445148e-02  4.01028096e-02  3.02751152e-02\n",
      "   2.20211832e-02 -3.26706256e-02 -4.69913879e-02 -8.76904997e-02]\n",
      " [-1.61063011e-01 -7.77296774e-02  4.31457339e-02  2.78173596e-01\n",
      "   8.69305611e-02  3.01039507e-02 -1.57919052e-02 -2.92711087e-02\n",
      "   3.58474703e-02 -4.30355864e-02 -4.52607247e-02 -1.02049299e-01]\n",
      " [-1.65651170e-01 -8.23178366e-02  3.59366184e-04  8.69305611e-02\n",
      "   3.58573360e-01  3.28188097e-02 -2.97655839e-02 -4.41576647e-02\n",
      "   3.93040420e-02 -4.56268265e-02 -4.48280589e-02 -1.05638998e-01]\n",
      " [-1.01535805e-01 -1.82024717e-02  1.92445148e-02  3.01039507e-02\n",
      "   3.28188097e-02  1.42549511e-01 -2.23199286e-02  2.00860736e-02\n",
      "   9.13630082e-03 -1.20072682e-02 -4.31021503e-02 -5.67715366e-02]\n",
      " [-1.54777470e-01 -7.14441370e-02  4.01028096e-02 -1.57919052e-02\n",
      "  -2.97655839e-02 -2.23199286e-02  3.35475663e-01 -4.56648631e-02\n",
      "   3.21484155e-02  1.75090971e-02 -1.68379104e-02 -6.86341866e-02]\n",
      " [-6.18208890e-02  2.15124443e-02  3.02751152e-02 -2.92711087e-02\n",
      "  -4.41576647e-02  2.00860736e-02 -4.56648631e-02  3.29513433e-01\n",
      "  -3.99546256e-02 -4.39817456e-02 -8.36348523e-02 -5.29013173e-02]\n",
      " [-1.51021361e-01 -6.76880274e-02  2.20211832e-02  3.58474703e-02\n",
      "   3.93040420e-02  9.13630082e-03  3.21484155e-02 -3.99546256e-02\n",
      "   1.56261688e-01  1.49570821e-03  3.72120316e-02 -7.47628262e-02]\n",
      " [-8.72673431e-02 -3.93400975e-03 -3.26706256e-02 -4.30355864e-02\n",
      "  -4.56268265e-02 -1.20072682e-02  1.75090971e-02 -4.39817456e-02\n",
      "   1.49570821e-03  1.67035542e-01  4.25989584e-02  3.98840995e-02]\n",
      " [-1.60811019e-01 -7.74776852e-02 -4.69913879e-02 -4.52607247e-02\n",
      "  -4.48280589e-02 -4.31021503e-02 -1.68379104e-02 -8.36348523e-02\n",
      "   3.72120316e-02  4.25989584e-02  4.98238828e-01 -5.91060301e-02]\n",
      " [-1.42419156e-02  6.90914177e-02 -8.76904997e-02 -1.02049299e-01\n",
      "  -1.05638998e-01 -5.67715366e-02 -6.86341866e-02 -5.29013173e-02\n",
      "  -7.47628262e-02  3.98840995e-02 -5.91060301e-02  5.12821092e-01]]\n"
     ]
    }
   ],
   "source": [
    "print(\"Generalized Inverse of Q:\")\n",
    "print(Q_inv)"
   ]
  },
  {
   "cell_type": "markdown",
   "metadata": {},
   "source": [
    "### Compute generalized variance - using Q Inv"
   ]
  },
  {
   "cell_type": "code",
   "execution_count": 10,
   "metadata": {},
   "outputs": [
    {
     "data": {
      "text/plain": [
       "0.3002226098106932"
      ]
     },
     "execution_count": 10,
     "metadata": {},
     "output_type": "execute_result"
    }
   ],
   "source": [
    "generalized_variance = np.exp(np.mean(np.log(np.diag(Q_inv))))  # equation in the paper use daba as 1\n",
    "generalized_variance #fac in R code"
   ]
  },
  {
   "cell_type": "code",
   "execution_count": 11,
   "metadata": {},
   "outputs": [
    {
     "data": {
      "text/plain": [
       "array([3.52666147, 0.75094337, 0.71377437, 0.92655778, 1.19435828,\n",
       "       0.47481271, 1.11742305, 1.09756368, 0.52048608, 0.55637229,\n",
       "       1.65956464, 1.70813615])"
      ]
     },
     "execution_count": 11,
     "metadata": {},
     "output_type": "execute_result"
    }
   ],
   "source": [
    "marginal_variances = np.diag(Q_inv/generalized_variance)\n",
    "marginal_variances"
   ]
  },
  {
   "cell_type": "code",
   "execution_count": 12,
   "metadata": {},
   "outputs": [
    {
     "data": {
      "text/plain": [
       "1.0"
      ]
     },
     "execution_count": 12,
     "metadata": {},
     "output_type": "execute_result"
    }
   ],
   "source": [
    "geometric_mean = np.exp(np.mean(np.log(marginal_variances)))\n",
    "geometric_mean"
   ]
  },
  {
   "cell_type": "code",
   "execution_count": 13,
   "metadata": {},
   "outputs": [
    {
     "name": "stdout",
     "output_type": "stream",
     "text": [
      "[0.30022261 1.50111305 1.50111305 1.20089044 0.90066783 2.10155827\n",
      " 0.90066783 0.90066783 2.10155827 1.80133566 0.60044522 0.60044522]\n"
     ]
    }
   ],
   "source": [
    "QQ = generalized_variance*Q # this is completely different!\n",
    "print(np.diag(QQ))"
   ]
  }
 ],
 "metadata": {
  "kernelspec": {
   "display_name": "TDA",
   "language": "python",
   "name": "python3"
  },
  "language_info": {
   "codemirror_mode": {
    "name": "ipython",
    "version": 3
   },
   "file_extension": ".py",
   "mimetype": "text/x-python",
   "name": "python",
   "nbconvert_exporter": "python",
   "pygments_lexer": "ipython3",
   "version": "undefined.undefined.undefined"
  }
 },
 "nbformat": 4,
 "nbformat_minor": 2
}
