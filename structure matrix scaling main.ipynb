{
 "cells": [
  {
   "cell_type": "markdown",
   "metadata": {},
   "source": [
    "### Structure matrix (Precision matrix)"
   ]
  },
  {
   "cell_type": "markdown",
   "metadata": {},
   "source": [
    "#### Scaling testing part"
   ]
  },
  {
   "cell_type": "markdown",
   "metadata": {},
   "source": [
    "If you have the precision matrix \\( Q \\) and you want to scale it, you can follow these general steps:\n",
    "\n",
    "1. **Identify the Null Space \\( V \\) of \\( Q \\)**: The null space of \\( Q \\) contains all vectors that map to zero when multiplied by \\( Q \\). This can be computed using linear algebra techniques.\n",
    "\n",
    "2. **Compute Marginal Variances**: Based on the null space constraints, compute the marginal variances. This involves making the precision matrix regular (if necessary) and then applying specific equations to compute the variances.\n",
    "\n",
    "3. **Calculate Generalized Variance \\( \\sigma^2_{GV} \\)**: Once you have computed the marginal variances, calculate the generalized variance, which represents the overall variability in the spatial component.\n",
    "\n",
    "4. **Scale the Precision Matrix \\( Q \\)**: Use the computed generalized variance \\( \\sigma^2_{GV} \\) as a factor to scale the precision matrix \\( Q \\). This ensures that the scaled precision matrix maintains consistent interpretations across different applications and regions.\n",
    "\n",
    "Here's a more detailed explanation of each step:\n",
    "\n",
    "1. **Identify the Null Space \\( V \\) of \\( Q \\)**: This involves finding the vectors \\( V \\) such that \\( QV = 0 \\). The null space can be computed using linear algebra techniques like eigenvalue decomposition or singular value decomposition.\n",
    "\n",
    "2. **Compute Marginal Variances**: Once you have identified the null space \\( V \\), you can compute the marginal variances based on the constraints imposed by \\( V \\). This typically involves adding a small term to \\( Q \\) to make it regular, and then using specific equations to compute the variances.\n",
    "\n",
    "3. **Calculate Generalized Variance \\( \\sigma^2_{GV} \\)**: The generalized variance represents the overall variability in the spatial component of the model. It is computed as the geometric mean of the marginal variances or using other typical values.\n",
    "\n",
    "4. **Scale the Precision Matrix \\( Q \\)**: Finally, you can scale the precision matrix \\( Q \\) by dividing each element by the square root of the generalized variance \\( \\sigma^2_{GV} \\). This ensures that the scaled precision matrix maintains consistent interpretations across different applications and regions.\n",
    "\n",
    "Implementing these steps in code will depend on the programming language and libraries you're using. Many libraries for linear algebra and spatial analysis provide functions to compute eigenvalues, solve linear equations, and perform matrix operations, which you can use to implement the scaling process."
   ]
  },
  {
   "cell_type": "markdown",
   "metadata": {},
   "source": [
    "Python Example to find null space of a Matrix:"
   ]
  },
  {
   "cell_type": "code",
   "execution_count": 21,
   "metadata": {},
   "outputs": [
    {
     "name": "stdout",
     "output_type": "stream",
     "text": [
      "Null Space :  Matrix([[-2], [1], [0]])\n"
     ]
    }
   ],
   "source": [
    "from sympy import Matrix \n",
    "  \n",
    "# List A  \n",
    "A = [[1, 2, 0], [2, 4, 0], [3, 6, 1]] \n",
    "  \n",
    "# Matrix A \n",
    "A = Matrix(A) \n",
    "  \n",
    "# Null Space of A \n",
    "NullSpace = A.nullspace()   # Here NullSpace is a list \n",
    "  \n",
    "NullSpace = Matrix(NullSpace)   # Here NullSpace is a Matrix \n",
    "print(\"Null Space : \", NullSpace) "
   ]
  },
  {
   "cell_type": "code",
   "execution_count": 22,
   "metadata": {},
   "outputs": [
    {
     "name": "stdout",
     "output_type": "stream",
     "text": [
      "Matrix([[0], [0], [0]])\n"
     ]
    }
   ],
   "source": [
    "print(A * NullSpace) "
   ]
  },
  {
   "cell_type": "markdown",
   "metadata": {},
   "source": [
    "Calculating Determinant of a 2X2 Numpy matrix using numpy.linalg.det() function"
   ]
  },
  {
   "cell_type": "code",
   "execution_count": 23,
   "metadata": {},
   "outputs": [
    {
     "name": "stdout",
     "output_type": "stream",
     "text": [
      "Numpy Matrix is:\n",
      "[[50 29]\n",
      " [30 44]]\n",
      "\n",
      "Determinant of given 2X2 matrix:\n",
      "1330\n"
     ]
    }
   ],
   "source": [
    "# importing Numpy package \n",
    "import numpy as np \n",
    "\n",
    "# creating a 2X2 Numpy matrix \n",
    "n_array = np.array([[50, 29], [30, 44]]) \n",
    "\n",
    "# Displaying the Matrix \n",
    "print(\"Numpy Matrix is:\") \n",
    "print(n_array) \n",
    "\n",
    "# calculating the determinant of matrix \n",
    "det = np.linalg.det(n_array) \n",
    "\n",
    "print(\"\\nDeterminant of given 2X2 matrix:\") \n",
    "print(int(det)) \n"
   ]
  },
  {
   "cell_type": "markdown",
   "metadata": {},
   "source": [
    "#### Compute marginal variances using an example in Python"
   ]
  },
  {
   "cell_type": "markdown",
   "metadata": {},
   "source": [
    "This code performs the following steps:\n",
    "\n",
    "1. Creates an example precision matrix \\( Q \\).\n",
    "2. Regularizes the precision matrix \\( Q \\) by adding a small term to the diagonal.\n",
    "3. Computes the null space \\( V \\) of the regularized precision matrix \\( Q_{\\text{regularized}} \\).\n",
    "4. Computes the orthogonal complement of the null space \\( V \\).\n",
    "5. Projects the regularized precision matrix \\( Q_{\\text{regularized}} \\) onto the orthogonal complement of the null space \\( V \\).\n",
    "6. Computes the variance-covariance matrix.\n",
    "7. Extracts the marginal variances, which are the diagonal elements of the variance-covariance matrix.\n",
    "\n",
    "You can adjust the example precision matrix \\( Q \\) and the value of \\( \\epsilon \\) as needed for your specific application."
   ]
  },
  {
   "cell_type": "code",
   "execution_count": 25,
   "metadata": {},
   "outputs": [
    {
     "name": "stdout",
     "output_type": "stream",
     "text": [
      "Marginal Variances: [0.19387755 0.24489796 0.26530612]\n"
     ]
    }
   ],
   "source": [
    "import numpy as np\n",
    "from scipy.linalg import null_space\n",
    "\n",
    "# Step 1: Create an example precision matrix Q\n",
    "Q = np.array([[6, -2, 0],\n",
    "              [-2, 5, -1],\n",
    "              [0, -1, 4]])\n",
    "\n",
    "# Step 2: Make the Precision Matrix Regular (if necessary)\n",
    "epsilon = 1e-8  # small term to add to the diagonal\n",
    "Q_regularized = Q + epsilon * np.eye(Q.shape[0])\n",
    "\n",
    "# Step 3: Compute the Null Space V of Q\n",
    "V = null_space(Q_regularized)\n",
    "\n",
    "# Step 4: Compute the orthogonal complement of the null space V\n",
    "V_perpendicular = np.eye(Q.shape[0]) - V @ np.linalg.pinv(V.T @ V) @ V.T\n",
    "\n",
    "# Step 5: Project the regularized precision matrix Q_regularized onto the orthogonal complement of the null space V\n",
    "Q_projected = V_perpendicular @ Q_regularized @ V_perpendicular.T\n",
    "\n",
    "# Step 6: Compute the variance-covariance matrix\n",
    "var_cov_matrix = np.linalg.inv(Q_projected)\n",
    "\n",
    "# Step 7: Extract Marginal Variances (diagonal elements of the variance-covariance matrix)\n",
    "marginal_variances = np.diag(var_cov_matrix)\n",
    "\n",
    "print(\"Marginal Variances:\", marginal_variances)"
   ]
  },
  {
   "cell_type": "code",
   "execution_count": null,
   "metadata": {},
   "outputs": [],
   "source": []
  }
 ],
 "metadata": {
  "kernelspec": {
   "display_name": "TDA",
   "language": "python",
   "name": "python3"
  },
  "language_info": {
   "codemirror_mode": {
    "name": "ipython",
    "version": 3
   },
   "file_extension": ".py",
   "mimetype": "text/x-python",
   "name": "python",
   "nbconvert_exporter": "python",
   "pygments_lexer": "ipython3",
   "version": "3.11.4"
  }
 },
 "nbformat": 4,
 "nbformat_minor": 2
}
