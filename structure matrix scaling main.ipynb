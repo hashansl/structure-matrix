{
 "cells": [
  {
   "cell_type": "markdown",
   "metadata": {},
   "source": [
    "### Structure matrix (Precision matrix)"
   ]
  },
  {
   "cell_type": "markdown",
   "metadata": {},
   "source": [
    "#### Scaling testing part"
   ]
  },
  {
   "cell_type": "markdown",
   "metadata": {},
   "source": [
    "If you have the precision matrix \\( Q \\) and you want to scale it, you can follow these general steps:\n",
    "\n",
    "1. **Identify the Null Space \\( V \\) of \\( Q \\)**: The null space of \\( Q \\) contains all vectors that map to zero when multiplied by \\( Q \\). This can be computed using linear algebra techniques.\n",
    "\n",
    "2. **Compute Marginal Variances**: Based on the null space constraints, compute the marginal variances. This involves making the precision matrix regular (if necessary) and then applying specific equations to compute the variances.\n",
    "\n",
    "3. **Calculate Generalized Variance \\( \\sigma^2_{GV} \\)**: Once you have computed the marginal variances, calculate the generalized variance, which represents the overall variability in the spatial component.\n",
    "\n",
    "4. **Scale the Precision Matrix \\( Q \\)**: Use the computed generalized variance \\( \\sigma^2_{GV} \\) as a factor to scale the precision matrix \\( Q \\). This ensures that the scaled precision matrix maintains consistent interpretations across different applications and regions.\n",
    "\n",
    "Here's a more detailed explanation of each step:\n",
    "\n",
    "1. **Identify the Null Space \\( V \\) of \\( Q \\)**: This involves finding the vectors \\( V \\) such that \\( QV = 0 \\). The null space can be computed using linear algebra techniques like eigenvalue decomposition or singular value decomposition.\n",
    "\n",
    "2. **Compute Marginal Variances**: Once you have identified the null space \\( V \\), you can compute the marginal variances based on the constraints imposed by \\( V \\). This typically involves adding a small term to \\( Q \\) to make it regular, and then using specific equations to compute the variances.\n",
    "\n",
    "3. **Calculate Generalized Variance \\( \\sigma^2_{GV} \\)**: The generalized variance represents the overall variability in the spatial component of the model. It is computed as the geometric mean of the marginal variances or using other typical values.\n",
    "\n",
    "4. **Scale the Precision Matrix \\( Q \\)**: Finally, you can scale the precision matrix \\( Q \\) by dividing each element by the square root of the generalized variance \\( \\sigma^2_{GV} \\). This ensures that the scaled precision matrix maintains consistent interpretations across different applications and regions.\n",
    "\n",
    "Implementing these steps in code will depend on the programming language and libraries you're using. Many libraries for linear algebra and spatial analysis provide functions to compute eigenvalues, solve linear equations, and perform matrix operations, which you can use to implement the scaling process."
   ]
  },
  {
   "cell_type": "markdown",
   "metadata": {},
   "source": [
    "Python Example to find null space of a Matrix:"
   ]
  },
  {
   "cell_type": "code",
   "execution_count": 21,
   "metadata": {},
   "outputs": [
    {
     "name": "stdout",
     "output_type": "stream",
     "text": [
      "Null Space :  Matrix([[-2], [1], [0]])\n"
     ]
    }
   ],
   "source": [
    "from sympy import Matrix \n",
    "  \n",
    "# List A  \n",
    "A = [[1, 2, 0], [2, 4, 0], [3, 6, 1]] \n",
    "  \n",
    "# Matrix A \n",
    "A = Matrix(A) \n",
    "  \n",
    "# Null Space of A \n",
    "NullSpace = A.nullspace()   # Here NullSpace is a list \n",
    "  \n",
    "NullSpace = Matrix(NullSpace)   # Here NullSpace is a Matrix \n",
    "print(\"Null Space : \", NullSpace) "
   ]
  },
  {
   "cell_type": "code",
   "execution_count": 22,
   "metadata": {},
   "outputs": [
    {
     "name": "stdout",
     "output_type": "stream",
     "text": [
      "Matrix([[0], [0], [0]])\n"
     ]
    }
   ],
   "source": [
    "print(A * NullSpace) "
   ]
  },
  {
   "cell_type": "markdown",
   "metadata": {},
   "source": [
    "Calculating Determinant of a 2X2 Numpy matrix using numpy.linalg.det() function"
   ]
  },
  {
   "cell_type": "code",
   "execution_count": 23,
   "metadata": {},
   "outputs": [
    {
     "name": "stdout",
     "output_type": "stream",
     "text": [
      "Numpy Matrix is:\n",
      "[[50 29]\n",
      " [30 44]]\n",
      "\n",
      "Determinant of given 2X2 matrix:\n",
      "1330\n"
     ]
    }
   ],
   "source": [
    "# importing Numpy package \n",
    "import numpy as np \n",
    "\n",
    "# creating a 2X2 Numpy matrix \n",
    "n_array = np.array([[50, 29], [30, 44]]) \n",
    "\n",
    "# Displaying the Matrix \n",
    "print(\"Numpy Matrix is:\") \n",
    "print(n_array) \n",
    "\n",
    "# calculating the determinant of matrix \n",
    "det = np.linalg.det(n_array) \n",
    "\n",
    "print(\"\\nDeterminant of given 2X2 matrix:\") \n",
    "print(int(det)) \n"
   ]
  },
  {
   "cell_type": "markdown",
   "metadata": {},
   "source": [
    "#### Compute marginal variances using an example in Python"
   ]
  },
  {
   "cell_type": "markdown",
   "metadata": {},
   "source": [
    "This code performs the following steps:\n",
    "\n",
    "1. Creates an example precision matrix \\( Q \\).\n",
    "2. Regularizes the precision matrix \\( Q \\) by adding a small term to the diagonal.\n",
    "3. Computes the null space \\( V \\) of the regularized precision matrix \\( Q_{\\text{regularized}} \\).\n",
    "4. Computes the orthogonal complement of the null space \\( V \\).\n",
    "5. Projects the regularized precision matrix \\( Q_{\\text{regularized}} \\) onto the orthogonal complement of the null space \\( V \\).\n",
    "6. Computes the variance-covariance matrix.\n",
    "7. Extracts the marginal variances, which are the diagonal elements of the variance-covariance matrix.\n",
    "\n",
    "You can adjust the example precision matrix \\( Q \\) and the value of \\( \\epsilon \\) as needed for your specific application."
   ]
  },
  {
   "cell_type": "code",
   "execution_count": 25,
   "metadata": {},
   "outputs": [
    {
     "name": "stdout",
     "output_type": "stream",
     "text": [
      "Marginal Variances: [0.19387755 0.24489796 0.26530612]\n"
     ]
    }
   ],
   "source": [
    "import numpy as np\n",
    "from scipy.linalg import null_space\n",
    "\n",
    "# Step 1: Create an example precision matrix Q\n",
    "Q = np.array([[6, -2, 0],\n",
    "              [-2, 5, -1],\n",
    "              [0, -1, 4]])\n",
    "\n",
    "# Step 2: Make the Precision Matrix Regular (if necessary)\n",
    "epsilon = 1e-8  # small term to add to the diagonal\n",
    "Q_regularized = Q + epsilon * np.eye(Q.shape[0])\n",
    "\n",
    "# Step 3: Compute the Null Space V of Q\n",
    "V = null_space(Q_regularized)\n",
    "\n",
    "# Step 4: Compute the orthogonal complement of the null space V\n",
    "V_perpendicular = np.eye(Q.shape[0]) - V @ np.linalg.pinv(V.T @ V) @ V.T\n",
    "\n",
    "# Step 5: Project the regularized precision matrix Q_regularized onto the orthogonal complement of the null space V\n",
    "Q_projected = V_perpendicular @ Q_regularized @ V_perpendicular.T\n",
    "\n",
    "# Step 6: Compute the variance-covariance matrix\n",
    "var_cov_matrix = np.linalg.inv(Q_projected)\n",
    "\n",
    "# Step 7: Extract Marginal Variances (diagonal elements of the variance-covariance matrix)\n",
    "marginal_variances = np.diag(var_cov_matrix)\n",
    "\n",
    "print(\"Marginal Variances:\", marginal_variances)"
   ]
  },
  {
   "cell_type": "code",
   "execution_count": null,
   "metadata": {},
   "outputs": [],
   "source": []
  },
  {
   "cell_type": "markdown",
   "metadata": {},
   "source": [
    "To find the generalized inverse of a matrix Q, you can use techniques such as singular value decomposition (SVD) or the Moore-Penrose pseudoinverse. "
   ]
  },
  {
   "cell_type": "markdown",
   "metadata": {},
   "source": [
    "This code performs the following steps:\n",
    "\n",
    "1. **Compute SVD of Q**: Singular value decomposition decomposes the matrix \\( Q \\) into three matrices \\( U \\), \\( S \\), and \\( V^T \\), such that \\( Q = U \\cdot \\text{diag}(S) \\cdot V^T \\), where \\( U \\) and \\( V \\) are orthogonal matrices and \\( S \\) is a diagonal matrix containing the singular values.\n",
    "\n",
    "2. **Set Threshold for Singular Values**: We set a threshold value to determine when a singular value is considered nonzero. This is necessary to avoid numerical instability issues.\n",
    "\n",
    "3. **Calculate Inverse of Singular Values**: We calculate the inverse of the singular values, ensuring that we avoid dividing by very small values close to zero.\n",
    "\n",
    "4. **Construct the Generalized Inverse**: Using the inverse of singular values obtained in the previous step, we construct the generalized inverse of \\( Q \\) using the formula \\( Q^{-} = V \\cdot \\text{diag}(1/S_{\\text{inv}}) \\cdot U^T \\).\n",
    "\n",
    "The resulting matrix \\( Q^{-} \\) is the generalized inverse of \\( Q \\)."
   ]
  },
  {
   "cell_type": "code",
   "execution_count": 27,
   "metadata": {},
   "outputs": [
    {
     "name": "stdout",
     "output_type": "stream",
     "text": [
      "Generalized Inverse of Q:\n",
      "[[-6.38888889e-01 -1.66666667e-01  3.05555556e-01]\n",
      " [-5.55555556e-02  1.30590700e-16  5.55555556e-02]\n",
      " [ 5.27777778e-01  1.66666667e-01 -1.94444444e-01]]\n"
     ]
    }
   ],
   "source": [
    "import numpy as np\n",
    "\n",
    "# Example matrix Q\n",
    "Q = np.array([[1, 2, 3],\n",
    "              [4, 5, 6],\n",
    "              [7, 8, 9]])\n",
    "\n",
    "# Compute SVD of Q\n",
    "U, S, Vt = np.linalg.svd(Q)\n",
    "\n",
    "# Set threshold for singular values\n",
    "tol = 1e-12\n",
    "\n",
    "# Calculate inverse of singular values\n",
    "S_inv = np.where(S > tol, 1/S, 0)\n",
    "\n",
    "# Construct the generalized inverse\n",
    "Q_inv = Vt.T @ np.diag(S_inv) @ U.T\n",
    "\n",
    "print(\"Generalized Inverse of Q:\")\n",
    "print(Q_inv)\n"
   ]
  },
  {
   "cell_type": "markdown",
   "metadata": {},
   "source": [
    "### Generalized variance"
   ]
  },
  {
   "cell_type": "code",
   "execution_count": 28,
   "metadata": {},
   "outputs": [
    {
     "name": "stdout",
     "output_type": "stream",
     "text": [
      "Result: 3.5568933044900626\n"
     ]
    }
   ],
   "source": [
    "import numpy as np\n",
    "\n",
    "# Example matrix Q\n",
    "Q = np.array([[1, 2, 3],\n",
    "              [4, 5, 6],\n",
    "              [7, 8, 9]])\n",
    "\n",
    "# Get diagonal elements of Q\n",
    "diagonal_elements = np.diag(Q)\n",
    "\n",
    "# Take the logarithm of diagonal elements\n",
    "log_diagonal_elements = np.log(diagonal_elements)\n",
    "\n",
    "# Sum up the logarithms of diagonal elements\n",
    "log_sum = np.sum(log_diagonal_elements)\n",
    "\n",
    "# Divide the sum by the number of rows/columns\n",
    "n = Q.shape[0]  # Number of rows/columns in Q\n",
    "mean_log = log_sum / n\n",
    "\n",
    "# Take the exponent of the mean log\n",
    "result = np.exp(mean_log)\n",
    "\n",
    "print(\"Result:\", result)"
   ]
  },
  {
   "cell_type": "code",
   "execution_count": null,
   "metadata": {},
   "outputs": [],
   "source": []
  }
 ],
 "metadata": {
  "kernelspec": {
   "display_name": "TDA",
   "language": "python",
   "name": "python3"
  },
  "language_info": {
   "codemirror_mode": {
    "name": "ipython",
    "version": 3
   },
   "file_extension": ".py",
   "mimetype": "text/x-python",
   "name": "python",
   "nbconvert_exporter": "python",
   "pygments_lexer": "ipython3",
   "version": "3.11.4"
  }
 },
 "nbformat": 4,
 "nbformat_minor": 2
}
