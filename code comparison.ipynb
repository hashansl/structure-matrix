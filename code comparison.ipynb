{
 "cells": [
  {
   "cell_type": "markdown",
   "metadata": {},
   "source": [
    "##### Compare our code with Dr. Adams solution"
   ]
  },
  {
   "cell_type": "code",
   "execution_count": 78,
   "metadata": {},
   "outputs": [],
   "source": [
    "# import pickle file and print the content\n",
    "import pickle\n",
    "\n",
    "# variableAndQmatrix.pickle\n",
    "with open('variableAndQmatrix.pickle', 'rb') as f:\n",
    "    data = pickle.load(f)\n"
   ]
  },
  {
   "cell_type": "code",
   "execution_count": 79,
   "metadata": {},
   "outputs": [
    {
     "name": "stdout",
     "output_type": "stream",
     "text": [
      "EP_DISABL\n",
      "Determinant: (array([0.]), 2)\n",
      "EP_PCI\n",
      "Determinant: (array([0.]), 2)\n",
      "EP_LIMENG\n",
      "Determinant: (array([-1.17615891e-10]), 2)\n",
      "EP_CROWD\n",
      "Determinant: (array([0.]), 2)\n",
      "EP_UNINSUR\n",
      "Determinant: (array([3.91085014e-15]), 2)\n"
     ]
    }
   ],
   "source": [
    "import numpy as np\n",
    "# get the determinant of each Q matrix\n",
    "for variable, Qmatrix in data.items():\n",
    "    print(variable, sep='\\n')\n",
    "    print('Determinant:', (np.linalg.det(Qmatrix), 2))\n"
   ]
  },
  {
   "cell_type": "code",
   "execution_count": 72,
   "metadata": {},
   "outputs": [],
   "source": [
    "Qmatrix = data['EP_DISABL'][0]"
   ]
  },
  {
   "cell_type": "code",
   "execution_count": 73,
   "metadata": {},
   "outputs": [
    {
     "name": "stdout",
     "output_type": "stream",
     "text": [
      "(11, 11)\n"
     ]
    }
   ],
   "source": [
    "# ger the shape of the df\n",
    "print(Qmatrix.shape)"
   ]
  },
  {
   "cell_type": "code",
   "execution_count": 76,
   "metadata": {},
   "outputs": [
    {
     "data": {
      "text/plain": [
       "pandas.core.frame.DataFrame"
      ]
     },
     "execution_count": 76,
     "metadata": {},
     "output_type": "execute_result"
    }
   ],
   "source": [
    "type(Qmatrix)"
   ]
  },
  {
   "cell_type": "code",
   "execution_count": 83,
   "metadata": {},
   "outputs": [],
   "source": [
    "# save all the matrices to different files\n",
    "for variable, Qmatrix in data.items():\n",
    "    Qmatrix[0].to_csv('Qmatrix_' + variable+'.csv', index=False)"
   ]
  },
  {
   "cell_type": "markdown",
   "metadata": {},
   "source": [
    "##### Our code"
   ]
  },
  {
   "cell_type": "markdown",
   "metadata": {},
   "source": [
    "Compute the generalized inverse \\\n",
    "The generalized inverse of a matrix, also known as the Moore-Penrose inverse (oseudo Inverse)"
   ]
  },
  {
   "cell_type": "code",
   "execution_count": 9,
   "metadata": {},
   "outputs": [],
   "source": [
    "import numpy as np"
   ]
  },
  {
   "cell_type": "code",
   "execution_count": 37,
   "metadata": {},
   "outputs": [],
   "source": [
    "# Compute SVD of Q\n",
    "U, S, Vt = np.linalg.svd(Qmatrix)"
   ]
  },
  {
   "cell_type": "code",
   "execution_count": 38,
   "metadata": {},
   "outputs": [],
   "source": [
    "# get the machine epsilon\n",
    "eps = np.finfo(float).eps\n",
    "tol = np.sqrt(eps)"
   ]
  },
  {
   "cell_type": "code",
   "execution_count": 39,
   "metadata": {},
   "outputs": [],
   "source": [
    "# Calculate inverse of singular values\n",
    "S_inv = np.where(S > tol, 1/S, 0)"
   ]
  },
  {
   "cell_type": "code",
   "execution_count": 40,
   "metadata": {},
   "outputs": [],
   "source": [
    "# Construct the generalized inverse\n",
    "Q_inv = Vt.T @ np.diag(S_inv) @ U.T"
   ]
  },
  {
   "cell_type": "code",
   "execution_count": 41,
   "metadata": {},
   "outputs": [
    {
     "name": "stdout",
     "output_type": "stream",
     "text": [
      "Generalized Inverse of Q:\n",
      "[[ 6.40625000e-01 -4.72127334e-16  2.65625000e-01 -4.84375000e-01\n",
      "  -3.98925408e-16 -2.34375000e-01  3.90625000e-01 -3.67062104e-16\n",
      "  -2.34375000e-01  1.56250000e-02 -3.59375000e-01]\n",
      " [ 1.03208092e-17  5.55555556e-01 -5.97719507e-18  2.46547143e-16\n",
      "  -4.44444444e-01  2.89774887e-16 -1.30073003e-16 -1.11111111e-01\n",
      "   2.24169183e-16  1.18118592e-16  2.38399518e-16]\n",
      " [ 2.65625000e-01 -1.14673678e-15  1.89062500e+00 -8.59375000e-01\n",
      "  -1.55295014e-15 -6.09375000e-01  1.01562500e+00 -1.14605996e-15\n",
      "  -6.09375000e-01 -3.59375000e-01 -7.34375000e-01]\n",
      " [-4.84375000e-01  9.56117452e-16 -8.59375000e-01  1.39062500e+00\n",
      "   9.51662720e-16  1.40625000e-01 -7.34375000e-01  6.92122770e-16\n",
      "   1.40625000e-01 -1.09375000e-01  5.15625000e-01]\n",
      " [-1.73150739e-16 -4.44444444e-01 -7.31692140e-16  7.56367061e-17\n",
      "   5.55555556e-01  4.45551972e-17 -3.78198815e-16 -1.11111111e-01\n",
      "   3.36211767e-17  4.16595845e-17  9.47955579e-17]\n",
      " [-2.34375000e-01  3.96490134e-16 -6.09375000e-01  1.40625000e-01\n",
      "   6.61954930e-16  5.15625000e-01 -4.84375000e-01  3.59729676e-16\n",
      "   2.65625000e-01  1.40625000e-01  2.65625000e-01]\n",
      " [ 3.90625000e-01 -9.06639961e-16  1.01562500e+00 -7.34375000e-01\n",
      "  -1.10170631e-15 -4.84375000e-01  1.14062500e+00 -8.32681132e-16\n",
      "  -4.84375000e-01 -2.34375000e-01 -6.09375000e-01]\n",
      " [-9.23070831e-17 -1.11111111e-01 -5.54590573e-16  1.95132263e-16\n",
      "  -1.11111111e-01  1.98266153e-16 -3.57496924e-16  2.22222222e-01\n",
      "   2.39015253e-16  1.56266053e-16  2.17208396e-16]\n",
      " [-2.34375000e-01  3.44063645e-16 -6.09375000e-01  1.40625000e-01\n",
      "   5.72781996e-16  2.65625000e-01 -4.84375000e-01  4.99907018e-16\n",
      "   5.15625000e-01  1.40625000e-01  2.65625000e-01]\n",
      " [ 1.56250000e-02  9.12646738e-17 -3.59375000e-01 -1.09375000e-01\n",
      "   3.08978695e-16  1.40625000e-01 -2.34375000e-01  1.57927639e-16\n",
      "   1.40625000e-01  3.90625000e-01  1.56250000e-02]\n",
      " [-3.59375000e-01  5.71438018e-16 -7.34375000e-01  5.15625000e-01\n",
      "   7.94131548e-16  2.65625000e-01 -6.09375000e-01  5.66318214e-16\n",
      "   2.65625000e-01  1.56250000e-02  6.40625000e-01]]\n"
     ]
    }
   ],
   "source": [
    "print(\"Generalized Inverse of Q:\")\n",
    "print(Q_inv)"
   ]
  },
  {
   "cell_type": "markdown",
   "metadata": {},
   "source": [
    "Compute generalized variance - using Q Inv"
   ]
  },
  {
   "cell_type": "code",
   "execution_count": 42,
   "metadata": {},
   "outputs": [
    {
     "data": {
      "text/plain": [
       "0.6501074433163458"
      ]
     },
     "execution_count": 42,
     "metadata": {},
     "output_type": "execute_result"
    }
   ],
   "source": [
    "generalized_variance = np.exp(np.mean(np.log(np.diag(Q_inv))))  # equation in the paper use daba as 1\n",
    "generalized_variance #fac in R code"
   ]
  },
  {
   "cell_type": "code",
   "execution_count": null,
   "metadata": {},
   "outputs": [],
   "source": []
  },
  {
   "cell_type": "code",
   "execution_count": null,
   "metadata": {},
   "outputs": [],
   "source": []
  },
  {
   "cell_type": "markdown",
   "metadata": {},
   "source": [
    "##### Dr. Adams code"
   ]
  },
  {
   "cell_type": "code",
   "execution_count": 20,
   "metadata": {},
   "outputs": [],
   "source": [
    "import scipy as sp\n",
    "from scipy.linalg import solve\n",
    "from scipy.sparse.linalg import spsolve"
   ]
  },
  {
   "cell_type": "code",
   "execution_count": 54,
   "metadata": {},
   "outputs": [],
   "source": [
    "# Qmatrix dataframe to numpy array\n",
    "Qmatrix_ = Qmatrix.to_numpy()"
   ]
  },
  {
   "cell_type": "code",
   "execution_count": 55,
   "metadata": {},
   "outputs": [
    {
     "data": {
      "text/plain": [
       "11"
      ]
     },
     "execution_count": 55,
     "metadata": {},
     "output_type": "execute_result"
    }
   ],
   "source": [
    "n = Qmatrix_.shape[0]\n",
    "n"
   ]
  },
  {
   "cell_type": "code",
   "execution_count": 56,
   "metadata": {},
   "outputs": [],
   "source": [
    "# Add jitter to the diagonal of \n",
    "# In the context of the provided code, \"jittered\" refers to the process of adding \n",
    "# small random variations to the diagonal elements of the matrix Qmatrix_. \n",
    "# This is achieved by multiplying a sparse diagonal matrix (constructed with ones along the main diagonal)\n",
    "# by the maximum value along the diagonal of Qmatrix_ and the square root of the machine epsilon.\n",
    "\n",
    "Q_jitter = Qmatrix_ + sp.sparse.diags(np.ones(n)) * max(Qmatrix_.diagonal()) * np.sqrt(\n",
    "\n",
    "    np.finfo(np.float64).eps\n",
    "\n",
    ")"
   ]
  },
  {
   "cell_type": "code",
   "execution_count": 57,
   "metadata": {},
   "outputs": [],
   "source": [
    "# inverse of precision (Q) is cov\n",
    "\n",
    "Q_perturbed = sp.sparse.csc_array(Q_jitter)\n",
    "\n",
    "b = sp.sparse.identity(n, format='csc')\n",
    "\n",
    "sigma = spsolve(Q_perturbed, b)"
   ]
  },
  {
   "cell_type": "code",
   "execution_count": 64,
   "metadata": {},
   "outputs": [
    {
     "data": {
      "text/plain": [
       "matrix([[ 1.00000000e+00,  0.00000000e+00, -4.65661287e-10,\n",
       "         -4.65661287e-10,  0.00000000e+00, -4.65661287e-10,\n",
       "         -4.65661287e-10,  0.00000000e+00, -4.65661287e-10,\n",
       "         -4.65661287e-10, -4.65661287e-10],\n",
       "        [ 0.00000000e+00,  1.00000000e+00,  0.00000000e+00,\n",
       "          0.00000000e+00,  0.00000000e+00,  0.00000000e+00,\n",
       "          0.00000000e+00,  0.00000000e+00,  0.00000000e+00,\n",
       "          0.00000000e+00,  0.00000000e+00],\n",
       "        [ 0.00000000e+00,  0.00000000e+00,  1.00000000e+00,\n",
       "          0.00000000e+00,  0.00000000e+00,  0.00000000e+00,\n",
       "          0.00000000e+00,  0.00000000e+00,  0.00000000e+00,\n",
       "          0.00000000e+00,  0.00000000e+00],\n",
       "        [ 0.00000000e+00,  0.00000000e+00,  0.00000000e+00,\n",
       "          1.00000000e+00,  0.00000000e+00,  0.00000000e+00,\n",
       "          0.00000000e+00,  0.00000000e+00,  0.00000000e+00,\n",
       "          0.00000000e+00,  0.00000000e+00],\n",
       "        [ 0.00000000e+00,  0.00000000e+00,  0.00000000e+00,\n",
       "          0.00000000e+00,  1.00000000e+00,  0.00000000e+00,\n",
       "          0.00000000e+00,  0.00000000e+00,  0.00000000e+00,\n",
       "          0.00000000e+00,  0.00000000e+00],\n",
       "        [ 4.65661287e-10,  0.00000000e+00, -4.65661287e-10,\n",
       "         -2.32830644e-09,  0.00000000e+00,  1.00000000e+00,\n",
       "          4.65661287e-10,  0.00000000e+00, -4.65661287e-10,\n",
       "          4.65661287e-10,  4.65661287e-10],\n",
       "        [-5.43236810e-10,  0.00000000e+00,  3.88079457e-10,\n",
       "          3.88095944e-10,  0.00000000e+00,  3.88093113e-10,\n",
       "          9.99999999e-01,  0.00000000e+00,  3.88093113e-10,\n",
       "         -5.43231772e-10, -5.43228108e-10],\n",
       "        [ 0.00000000e+00,  2.94209102e-15,  0.00000000e+00,\n",
       "          0.00000000e+00,  2.94209102e-15,  0.00000000e+00,\n",
       "          0.00000000e+00,  1.00000000e+00,  0.00000000e+00,\n",
       "          0.00000000e+00,  0.00000000e+00],\n",
       "        [-1.39698386e-09,  0.00000000e+00, -1.39698386e-09,\n",
       "         -1.39698386e-09,  0.00000000e+00, -4.65661287e-10,\n",
       "         -1.39698386e-09,  0.00000000e+00,  1.00000000e+00,\n",
       "         -4.65661287e-10, -1.39698386e-09],\n",
       "        [ 3.88089616e-10,  0.00000000e+00, -7.75697354e-11,\n",
       "         -7.75727330e-11,  0.00000000e+00, -1.94021822e-09,\n",
       "         -5.43231751e-10,  0.00000000e+00, -7.75730660e-11,\n",
       "          9.99999999e-01, -5.43234249e-10],\n",
       "        [-7.75695272e-11,  0.00000000e+00,  3.88095944e-10,\n",
       "          3.88084453e-10,  0.00000000e+00, -1.47455853e-09,\n",
       "         -7.75668210e-11,  0.00000000e+00,  3.88086618e-10,\n",
       "         -7.75729828e-11,  1.00000000e+00]])"
      ]
     },
     "execution_count": 64,
     "metadata": {},
     "output_type": "execute_result"
    }
   ],
   "source": [
    "cov = sigma.toarray()\n",
    "Q_jitter.dot(cov)"
   ]
  },
  {
   "cell_type": "code",
   "execution_count": 51,
   "metadata": {},
   "outputs": [],
   "source": [
    "# V \\in Null(Q)\n",
    "\n",
    "V = np.ones(n)  # from pg. 6\n",
    "\n",
    "W = sigma @ V.T  # \\Sigma * B in 3.17\n",
    "\n",
    "Q_inv = sigma - np.outer(W * solve(V @ W, np.ones(1)), W.T)"
   ]
  },
  {
   "cell_type": "code",
   "execution_count": 52,
   "metadata": {},
   "outputs": [
    {
     "data": {
      "text/plain": [
       "array([[  762601.36738122, -2033601.93801671,   762600.99238118,\n",
       "          762600.24238134, -2033601.93801671,   762600.4923813 ,\n",
       "          762601.11738119, -2033601.93801671,   762600.4923813 ,\n",
       "          762600.74238127,   762600.36738132],\n",
       "       [-2033601.93801671,  5422939.05693343, -2033601.93801671,\n",
       "        -2033601.93801671,  5422938.05693347, -2033601.93801671,\n",
       "        -2033601.93801671,  5422938.39026679, -2033601.93801671,\n",
       "        -2033601.93801671, -2033601.93801671],\n",
       "       [  762600.99238118, -2033601.93801671,   762602.61738096,\n",
       "          762599.86738145, -2033601.93801671,   762600.11738138,\n",
       "          762601.74238105, -2033601.93801671,   762600.11738138,\n",
       "          762600.36738132,   762599.99238142],\n",
       "       [  762600.24238134, -2033601.93801671,   762599.86738145,\n",
       "          762602.1173811 , -2033601.93801671,   762600.8673812 ,\n",
       "          762599.99238142, -2033601.93801671,   762600.8673812 ,\n",
       "          762600.61738125,   762601.24238116],\n",
       "       [-2033601.93801671,  5422938.05693347, -2033601.93801671,\n",
       "        -2033601.93801671,  5422939.05693343, -2033601.93801671,\n",
       "        -2033601.93801671,  5422938.39026679, -2033601.93801671,\n",
       "        -2033601.93801671, -2033601.93801671],\n",
       "       [  762600.4923813 , -2033601.93801671,   762600.11738138,\n",
       "          762600.8673812 , -2033601.93801671,   762601.24238122,\n",
       "          762600.24238135, -2033601.93801671,   762600.99238122,\n",
       "          762600.86738124,   762600.99238121],\n",
       "       [  762601.11738119, -2033601.93801671,   762601.74238105,\n",
       "          762599.99238142, -2033601.93801671,   762600.24238135,\n",
       "          762601.86738109, -2033601.93801671,   762600.24238135,\n",
       "          762600.4923813 ,   762600.11738138],\n",
       "       [-2033601.93801671,  5422938.39026679, -2033601.93801671,\n",
       "        -2033601.93801671,  5422938.39026679, -2033601.93801671,\n",
       "        -2033601.93801671,  5422938.72360011, -2033601.93801671,\n",
       "        -2033601.93801671, -2033601.93801671],\n",
       "       [  762600.4923813 , -2033601.93801671,   762600.11738138,\n",
       "          762600.8673812 , -2033601.93801671,   762600.99238122,\n",
       "          762600.24238135, -2033601.93801671,   762601.24238122,\n",
       "          762600.86738124,   762600.99238121],\n",
       "       [  762600.74238128, -2033601.93801671,   762600.36738132,\n",
       "          762600.61738125, -2033601.93801671,   762600.86738124,\n",
       "          762600.4923813 , -2033601.93801671,   762600.86738124,\n",
       "          762601.11738125,   762600.74238125],\n",
       "       [  762600.36738132, -2033601.93801671,   762599.99238142,\n",
       "          762601.24238116, -2033601.93801671,   762600.99238121,\n",
       "          762600.11738138, -2033601.93801671,   762600.99238121,\n",
       "          762600.74238125,   762601.36738118]])"
      ]
     },
     "execution_count": 52,
     "metadata": {},
     "output_type": "execute_result"
    }
   ],
   "source": [
    "Q_inv"
   ]
  },
  {
   "cell_type": "code",
   "execution_count": 53,
   "metadata": {},
   "outputs": [
    {
     "name": "stdout",
     "output_type": "stream",
     "text": [
      "1302099.5075113948\n"
     ]
    }
   ],
   "source": [
    "# grabbing diag of cov gives var and\n",
    "\n",
    "# arithmetic mean in log-space becomes geometric mean after exp\n",
    "\n",
    "scaling = np.exp(np.sum(np.log(np.diag(Q_inv))) / n)\n",
    "\n",
    "print(scaling)"
   ]
  },
  {
   "cell_type": "code",
   "execution_count": null,
   "metadata": {},
   "outputs": [],
   "source": []
  },
  {
   "cell_type": "code",
   "execution_count": null,
   "metadata": {},
   "outputs": [],
   "source": []
  }
 ],
 "metadata": {
  "kernelspec": {
   "display_name": "TDA",
   "language": "python",
   "name": "python3"
  },
  "language_info": {
   "codemirror_mode": {
    "name": "ipython",
    "version": 3
   },
   "file_extension": ".py",
   "mimetype": "text/x-python",
   "name": "python",
   "nbconvert_exporter": "python",
   "pygments_lexer": "ipython3",
   "version": "3.11.4"
  }
 },
 "nbformat": 4,
 "nbformat_minor": 2
}
