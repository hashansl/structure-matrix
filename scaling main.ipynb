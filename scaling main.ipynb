{
 "cells": [
  {
   "cell_type": "markdown",
   "metadata": {},
   "source": [
    "#### Scaling main - Arnsberg"
   ]
  },
  {
   "cell_type": "code",
   "execution_count": 15,
   "metadata": {},
   "outputs": [],
   "source": [
    "import pickle\n",
    "import numpy as np\n",
    "from scipy.linalg import null_space"
   ]
  },
  {
   "cell_type": "code",
   "execution_count": 17,
   "metadata": {},
   "outputs": [
    {
     "name": "stdout",
     "output_type": "stream",
     "text": [
      "Q matrix which we got from adjacencies:\n",
      "[[ 3 -1 -1  0  0 -1  0  0  0  0  0  0]\n",
      " [-1  4 -1 -1  0  0  0  0  0  0  0 -1]\n",
      " [-1 -1  4 -1  0  0  0 -1  0  0  0  0]\n",
      " [ 0 -1 -1  4  0  0  0 -1  0  0  0 -1]\n",
      " [ 0  0  0  0  2  0  0  0  0  0 -1 -1]\n",
      " [-1  0  0  0  0  1  0  0  0  0  0  0]\n",
      " [ 0  0  0  0  0  0  4 -1 -1 -1 -1  0]\n",
      " [ 0  0 -1 -1  0  0 -1  6 -1  0 -1 -1]\n",
      " [ 0  0  0  0  0  0 -1 -1  3 -1  0  0]\n",
      " [ 0  0  0  0  0  0 -1  0 -1  2  0  0]\n",
      " [ 0  0  0  0 -1  0 -1 -1  0  0  4 -1]\n",
      " [ 0 -1  0 -1 -1  0  0 -1  0  0 -1  5]]\n"
     ]
    }
   ],
   "source": [
    "# Load matrix from file\n",
    "with open('matrix_arnsberg.pkl', 'rb') as f:\n",
    "    Q = pickle.load(f)\n",
    "\n",
    "print(\"Q matrix which we got from adjacencies:\")\n",
    "print(Q)"
   ]
  },
  {
   "cell_type": "code",
   "execution_count": 18,
   "metadata": {},
   "outputs": [
    {
     "data": {
      "text/plain": [
       "-8.130015260572453e-12"
      ]
     },
     "execution_count": 18,
     "metadata": {},
     "output_type": "execute_result"
    }
   ],
   "source": [
    "# get the determinant of the matrix\n",
    "det = np.linalg.det(Q)\n",
    "det"
   ]
  },
  {
   "cell_type": "markdown",
   "metadata": {},
   "source": [
    "#### Compute the generalized inverse"
   ]
  },
  {
   "cell_type": "code",
   "execution_count": 19,
   "metadata": {},
   "outputs": [],
   "source": [
    "# Compute SVD of Q\n",
    "U, S, Vt = np.linalg.svd(Q)"
   ]
  },
  {
   "cell_type": "code",
   "execution_count": 20,
   "metadata": {},
   "outputs": [
    {
     "data": {
      "text/plain": [
       "1.4901161193847656e-08"
      ]
     },
     "execution_count": 20,
     "metadata": {},
     "output_type": "execute_result"
    }
   ],
   "source": [
    "# get the machine epsilon\n",
    "eps = np.finfo(float).eps\n",
    "tol = np.sqrt(eps)\n",
    "tol"
   ]
  },
  {
   "cell_type": "code",
   "execution_count": 21,
   "metadata": {},
   "outputs": [],
   "source": [
    "# Calculate inverse of singular values\n",
    "S_inv = np.where(S > tol, 1/S, 0)"
   ]
  },
  {
   "cell_type": "code",
   "execution_count": 22,
   "metadata": {},
   "outputs": [],
   "source": [
    "# Construct the generalized inverse\n",
    "Q_inv = Vt.T @ np.diag(S_inv) @ U.T"
   ]
  },
  {
   "cell_type": "code",
   "execution_count": 23,
   "metadata": {},
   "outputs": [
    {
     "name": "stdout",
     "output_type": "stream",
     "text": [
      "Generalized Inverse of Q:\n",
      "[[ 0.52957872  0.11550542  0.1103187  -0.01208794 -0.16325207  0.44624539\n",
      "  -0.20543741 -0.10838808 -0.21661768 -0.25269421 -0.16071634 -0.08245447]\n",
      " [ 0.11550542  0.30516655  0.09251095  0.07383875 -0.06833506  0.03217208\n",
      "  -0.13126729 -0.04113359 -0.14521381 -0.17990722 -0.07548121  0.02214442]\n",
      " [ 0.1103187   0.09251095  0.29479311  0.06865203 -0.09150242  0.02698536\n",
      "  -0.11294087 -0.00897591 -0.12135489 -0.15881455 -0.07928481 -0.0203867 ]\n",
      " [-0.01208794  0.07383875  0.06865203  0.27957872 -0.03825207 -0.09542128\n",
      "  -0.08043741  0.01661192 -0.09161768 -0.12769421 -0.03571634  0.04254553]\n",
      " [-0.16325207 -0.06833506 -0.09150242 -0.03825207  0.57914073 -0.24658541\n",
      "  -0.03150934 -0.01283714 -0.07404046 -0.09444156  0.13861515  0.10299965]\n",
      " [ 0.44624539  0.03217208  0.02698536 -0.09542128 -0.24658541  1.36291206\n",
      "  -0.28877075 -0.19172142 -0.29995101 -0.33602755 -0.24404968 -0.16578781]\n",
      " [-0.20543741 -0.13126729 -0.11294087 -0.08043741 -0.03150934 -0.28877075\n",
      "   0.36198997  0.04871196  0.18667877  0.2326677   0.06323479 -0.04292012]\n",
      " [-0.10838808 -0.04113359 -0.00897591  0.01661192 -0.01283714 -0.19172142\n",
      "   0.04871196  0.18033944  0.05136296  0.00837079  0.038108    0.01955106]\n",
      " [-0.21661768 -0.14521381 -0.12135489 -0.09161768 -0.07404046 -0.29995101\n",
      "   0.18667877  0.05136296  0.48255244  0.29294894  0.00318407 -0.06793165]\n",
      " [-0.25269421 -0.17990722 -0.15881455 -0.12769421 -0.09444156 -0.33602755\n",
      "   0.2326677   0.00837079  0.29294894  0.72114166 -0.00845724 -0.09709255]\n",
      " [-0.16071634 -0.07548121 -0.07928481 -0.03571634  0.13861515 -0.24404968\n",
      "   0.06323479  0.038108    0.00318407 -0.00845724  0.30343764  0.05712598]\n",
      " [-0.08245447  0.02214442 -0.0203867   0.04254553  0.10299965 -0.16578781\n",
      "  -0.04292012  0.01955106 -0.06793165 -0.09709255  0.05712598  0.23220666]]\n"
     ]
    }
   ],
   "source": [
    "print(\"Generalized Inverse of Q:\")\n",
    "print(Q_inv)"
   ]
  },
  {
   "cell_type": "markdown",
   "metadata": {},
   "source": [
    "### Compute generalized variance - using Q Inv"
   ]
  },
  {
   "cell_type": "code",
   "execution_count": 31,
   "metadata": {},
   "outputs": [
    {
     "data": {
      "text/plain": [
       "0.4001011304474988"
      ]
     },
     "execution_count": 31,
     "metadata": {},
     "output_type": "execute_result"
    }
   ],
   "source": [
    "generalized_variance = np.exp(np.mean(np.log(np.diag(Q_inv))))  # equation in the paper use daba as 1\n",
    "generalized_variance #fac in R code"
   ]
  },
  {
   "cell_type": "code",
   "execution_count": 25,
   "metadata": {},
   "outputs": [
    {
     "data": {
      "text/plain": [
       "array([1.32361216, 0.76272354, 0.73679649, 0.69877014, 1.44748587,\n",
       "       3.40641891, 0.90474619, 0.45073465, 1.20607618, 1.80239844,\n",
       "       0.75840237, 0.58036992])"
      ]
     },
     "execution_count": 25,
     "metadata": {},
     "output_type": "execute_result"
    }
   ],
   "source": [
    "marginal_variances = np.diag(Q_inv/generalized_variance)\n",
    "marginal_variances"
   ]
  },
  {
   "cell_type": "code",
   "execution_count": 28,
   "metadata": {},
   "outputs": [
    {
     "data": {
      "text/plain": [
       "1.0"
      ]
     },
     "execution_count": 28,
     "metadata": {},
     "output_type": "execute_result"
    }
   ],
   "source": [
    "geometric_mean = np.exp(np.mean(np.log(marginal_variances)))\n",
    "geometric_mean"
   ]
  },
  {
   "cell_type": "code",
   "execution_count": 30,
   "metadata": {},
   "outputs": [
    {
     "name": "stdout",
     "output_type": "stream",
     "text": [
      "[1.20030339 1.60040452 1.60040452 1.60040452 0.80020226 0.40010113\n",
      " 1.60040452 2.40060678 1.20030339 0.80020226 1.60040452 2.00050565]\n"
     ]
    }
   ],
   "source": [
    "QQ = generalized_variance*Q # this is completely different!\n",
    "print(np.diag(QQ))"
   ]
  }
 ],
 "metadata": {
  "kernelspec": {
   "display_name": "TDA",
   "language": "python",
   "name": "python3"
  },
  "language_info": {
   "codemirror_mode": {
    "name": "ipython",
    "version": 3
   },
   "file_extension": ".py",
   "mimetype": "text/x-python",
   "name": "python",
   "nbconvert_exporter": "python",
   "pygments_lexer": "ipython3",
   "version": "3.11.4"
  }
 },
 "nbformat": 4,
 "nbformat_minor": 2
}
