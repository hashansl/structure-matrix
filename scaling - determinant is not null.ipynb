{
 "cells": [
  {
   "cell_type": "markdown",
   "metadata": {},
   "source": [
    "##### Compare our code with Dr. Adams solution"
   ]
  },
  {
   "cell_type": "code",
   "execution_count": 1,
   "metadata": {},
   "outputs": [],
   "source": [
    "# import pickle file and print the content\n",
    "import pickle\n",
    "\n",
    "# variableAndQmatrix.pickle\n",
    "with open('variableAndQmatrix.pickle', 'rb') as f:\n",
    "    data = pickle.load(f)\n"
   ]
  },
  {
   "cell_type": "code",
   "execution_count": 2,
   "metadata": {},
   "outputs": [
    {
     "name": "stdout",
     "output_type": "stream",
     "text": [
      "EP_DISABL\n",
      "Determinant: (array([0.]), 2)\n",
      "EP_PCI\n",
      "Determinant: (array([0.]), 2)\n",
      "EP_LIMENG\n",
      "Determinant: (array([-1.17615891e-10]), 2)\n",
      "EP_CROWD\n",
      "Determinant: (array([0.]), 2)\n",
      "EP_UNINSUR\n",
      "Determinant: (array([3.91085014e-15]), 2)\n"
     ]
    }
   ],
   "source": [
    "import numpy as np\n",
    "# get the determinant of each Q matrix\n",
    "for variable, Qmatrix in data.items():\n",
    "    print(variable, sep='\\n')\n",
    "    print('Determinant:', (np.linalg.det(Qmatrix), 2))\n"
   ]
  },
  {
   "cell_type": "code",
   "execution_count": 3,
   "metadata": {},
   "outputs": [],
   "source": [
    "Qmatrix = data['EP_LIMENG'][0]"
   ]
  },
  {
   "cell_type": "code",
   "execution_count": 4,
   "metadata": {},
   "outputs": [
    {
     "name": "stdout",
     "output_type": "stream",
     "text": [
      "(16, 16)\n"
     ]
    }
   ],
   "source": [
    "# ger the shape of the df\n",
    "print(Qmatrix.shape)"
   ]
  },
  {
   "cell_type": "markdown",
   "metadata": {},
   "source": [
    "##### Dr. Adams code"
   ]
  },
  {
   "cell_type": "code",
   "execution_count": 5,
   "metadata": {},
   "outputs": [],
   "source": [
    "import scipy as sp\n",
    "from scipy.linalg import solve\n",
    "from scipy.sparse.linalg import spsolve"
   ]
  },
  {
   "cell_type": "code",
   "execution_count": 6,
   "metadata": {},
   "outputs": [],
   "source": [
    "# Qmatrix dataframe to numpy array\n",
    "Qmatrix_ = Qmatrix.to_numpy()"
   ]
  },
  {
   "cell_type": "code",
   "execution_count": 7,
   "metadata": {},
   "outputs": [
    {
     "name": "stdout",
     "output_type": "stream",
     "text": [
      "Determinant: -1.1761589105402491e-10\n"
     ]
    }
   ],
   "source": [
    "# get the determinant of the Q matrix\n",
    "det = np.linalg.det(Qmatrix_)  \n",
    "print('Determinant:', det)\n"
   ]
  },
  {
   "cell_type": "code",
   "execution_count": 8,
   "metadata": {},
   "outputs": [
    {
     "data": {
      "text/plain": [
       "16"
      ]
     },
     "execution_count": 8,
     "metadata": {},
     "output_type": "execute_result"
    }
   ],
   "source": [
    "n = Qmatrix_.shape[0]\n",
    "n"
   ]
  },
  {
   "cell_type": "code",
   "execution_count": 9,
   "metadata": {},
   "outputs": [],
   "source": [
    "# Add jitter to the diagonal of \n",
    "# In the context of the provided code, \"jittered\" refers to the process of adding \n",
    "# small random variations to the diagonal elements of the matrix Qmatrix_. \n",
    "# This is achieved by multiplying a sparse diagonal matrix (constructed with ones along the main diagonal)\n",
    "# by the maximum value along the diagonal of Qmatrix_ and the square root of the machine epsilon.\n",
    "\n",
    "Q_jitter = Qmatrix_ +  sp.sparse.diags(np.ones(n)) * max(Qmatrix_.diagonal()) *np.sqrt(\n",
    "\n",
    "    np.finfo(np.float64).eps\n",
    "\n",
    ")"
   ]
  },
  {
   "cell_type": "markdown",
   "metadata": {},
   "source": [
    "without jitter part the scaling factor changes for all variables(even ones with determinant non zero)"
   ]
  },
  {
   "cell_type": "code",
   "execution_count": 11,
   "metadata": {},
   "outputs": [
    {
     "name": "stdout",
     "output_type": "stream",
     "text": [
      "Determinant: -1.1761589105402491e-10\n"
     ]
    }
   ],
   "source": [
    "# get the determinant of the Q matrix\n",
    "det = np.linalg.det(Q_jitter)  \n",
    "print('Determinant:', det)"
   ]
  },
  {
   "cell_type": "code",
   "execution_count": 12,
   "metadata": {},
   "outputs": [],
   "source": [
    "# inverse of precision (Q) is cov\n",
    "\n",
    "Q_perturbed = sp.sparse.csc_array(Q_jitter)\n",
    "b = sp.sparse.identity(n, format='csc')\n",
    "sigma = spsolve(Q_perturbed, b)"
   ]
  },
  {
   "cell_type": "code",
   "execution_count": 13,
   "metadata": {},
   "outputs": [],
   "source": [
    "# V \\in Null(Q)\n",
    "\n",
    "V = np.ones(n)  # from pg. 6\n",
    "W = sigma @ V.T  # \\Sigma * B in 3.17\n",
    "Q_inv = sigma - np.outer(W * solve(V @ W, np.ones(1)), W.T)"
   ]
  },
  {
   "cell_type": "code",
   "execution_count": 14,
   "metadata": {},
   "outputs": [
    {
     "name": "stdout",
     "output_type": "stream",
     "text": [
      "0.7354405665541911\n"
     ]
    }
   ],
   "source": [
    "# grabbing diag of cov gives var and\n",
    "\n",
    "# arithmetic mean in log-space becomes geometric mean after exp\n",
    "scaling = np.exp(np.mean(np.log(np.diag(Q_inv))))\n",
    "print(scaling)"
   ]
  },
  {
   "cell_type": "code",
   "execution_count": null,
   "metadata": {},
   "outputs": [],
   "source": []
  },
  {
   "cell_type": "code",
   "execution_count": null,
   "metadata": {},
   "outputs": [],
   "source": []
  },
  {
   "cell_type": "code",
   "execution_count": null,
   "metadata": {},
   "outputs": [],
   "source": []
  },
  {
   "cell_type": "code",
   "execution_count": null,
   "metadata": {},
   "outputs": [],
   "source": []
  }
 ],
 "metadata": {
  "kernelspec": {
   "display_name": "TDA",
   "language": "python",
   "name": "python3"
  },
  "language_info": {
   "codemirror_mode": {
    "name": "ipython",
    "version": 3
   },
   "file_extension": ".py",
   "mimetype": "text/x-python",
   "name": "python",
   "nbconvert_exporter": "python",
   "pygments_lexer": "ipython3",
   "version": "undefined.undefined.undefined"
  }
 },
 "nbformat": 4,
 "nbformat_minor": 2
}
