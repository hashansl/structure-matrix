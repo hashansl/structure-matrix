{
 "cells": [
  {
   "cell_type": "markdown",
   "metadata": {},
   "source": [
    "##### Compare our code with Dr. Adams solution"
   ]
  },
  {
   "cell_type": "code",
   "execution_count": 1,
   "metadata": {},
   "outputs": [],
   "source": [
    "# import pickle file and print the content\n",
    "import pickle\n",
    "\n",
    "# variableAndQmatrix.pickle\n",
    "with open('variableAndQmatrix.pickle', 'rb') as f:\n",
    "    data = pickle.load(f)\n"
   ]
  },
  {
   "cell_type": "code",
   "execution_count": 2,
   "metadata": {},
   "outputs": [
    {
     "name": "stdout",
     "output_type": "stream",
     "text": [
      "EP_DISABL\n",
      "Determinant: (array([0.]), 2)\n",
      "EP_PCI\n",
      "Determinant: (array([0.]), 2)\n",
      "EP_LIMENG\n",
      "Determinant: (array([-1.17615891e-10]), 2)\n",
      "EP_CROWD\n",
      "Determinant: (array([0.]), 2)\n",
      "EP_UNINSUR\n",
      "Determinant: (array([3.91085014e-15]), 2)\n"
     ]
    }
   ],
   "source": [
    "import numpy as np\n",
    "# get the determinant of each Q matrix\n",
    "for variable, Qmatrix in data.items():\n",
    "    print(variable, sep='\\n')\n",
    "    print('Determinant:', (np.linalg.det(Qmatrix), 2))\n"
   ]
  },
  {
   "cell_type": "code",
   "execution_count": 14,
   "metadata": {},
   "outputs": [],
   "source": [
    "Qmatrix = data['EP_DISABL'][0]"
   ]
  },
  {
   "cell_type": "code",
   "execution_count": 15,
   "metadata": {},
   "outputs": [
    {
     "name": "stdout",
     "output_type": "stream",
     "text": [
      "(11, 11)\n"
     ]
    }
   ],
   "source": [
    "# ger the shape of the df\n",
    "print(Qmatrix.shape)"
   ]
  },
  {
   "cell_type": "markdown",
   "metadata": {},
   "source": [
    "##### Dr. Adams code"
   ]
  },
  {
   "cell_type": "code",
   "execution_count": 16,
   "metadata": {},
   "outputs": [],
   "source": [
    "import scipy as sp\n",
    "from scipy.linalg import solve\n",
    "from scipy.sparse.linalg import spsolve"
   ]
  },
  {
   "cell_type": "code",
   "execution_count": 17,
   "metadata": {},
   "outputs": [],
   "source": [
    "# Qmatrix dataframe to numpy array\n",
    "Qmatrix_ = Qmatrix.to_numpy()"
   ]
  },
  {
   "cell_type": "code",
   "execution_count": 18,
   "metadata": {},
   "outputs": [
    {
     "data": {
      "text/plain": [
       "11"
      ]
     },
     "execution_count": 18,
     "metadata": {},
     "output_type": "execute_result"
    }
   ],
   "source": [
    "n = Qmatrix_.shape[0]\n",
    "n"
   ]
  },
  {
   "cell_type": "code",
   "execution_count": 19,
   "metadata": {},
   "outputs": [],
   "source": [
    "# Add jitter to the diagonal of \n",
    "# In the context of the provided code, \"jittered\" refers to the process of adding \n",
    "# small random variations to the diagonal elements of the matrix Qmatrix_. \n",
    "# This is achieved by multiplying a sparse diagonal matrix (constructed with ones along the main diagonal)\n",
    "# by the maximum value along the diagonal of Qmatrix_ and the square root of the machine epsilon.\n",
    "\n",
    "Q_jitter = Qmatrix_ + sp.sparse.diags(np.ones(n)) * max(Qmatrix_.diagonal()) * np.sqrt(\n",
    "\n",
    "    np.finfo(np.float64).eps\n",
    "\n",
    ")"
   ]
  },
  {
   "cell_type": "code",
   "execution_count": 20,
   "metadata": {},
   "outputs": [],
   "source": [
    "# inverse of precision (Q) is cov\n",
    "\n",
    "Q_perturbed = sp.sparse.csc_array(Q_jitter)\n",
    "\n",
    "b = sp.sparse.identity(n, format='csc')\n",
    "\n",
    "sigma = spsolve(Q_perturbed, b)"
   ]
  },
  {
   "cell_type": "code",
   "execution_count": 21,
   "metadata": {},
   "outputs": [
    {
     "data": {
      "text/plain": [
       "matrix([[ 1.00000000e+00,  0.00000000e+00, -4.65661287e-10,\n",
       "         -4.65661287e-10,  0.00000000e+00, -4.65661287e-10,\n",
       "         -4.65661287e-10,  0.00000000e+00, -4.65661287e-10,\n",
       "         -4.65661287e-10, -4.65661287e-10],\n",
       "        [ 0.00000000e+00,  1.00000000e+00,  0.00000000e+00,\n",
       "          0.00000000e+00,  0.00000000e+00,  0.00000000e+00,\n",
       "          0.00000000e+00,  0.00000000e+00,  0.00000000e+00,\n",
       "          0.00000000e+00,  0.00000000e+00],\n",
       "        [ 0.00000000e+00,  0.00000000e+00,  1.00000000e+00,\n",
       "          0.00000000e+00,  0.00000000e+00,  0.00000000e+00,\n",
       "          0.00000000e+00,  0.00000000e+00,  0.00000000e+00,\n",
       "          0.00000000e+00,  0.00000000e+00],\n",
       "        [ 0.00000000e+00,  0.00000000e+00,  0.00000000e+00,\n",
       "          1.00000000e+00,  0.00000000e+00,  0.00000000e+00,\n",
       "          0.00000000e+00,  0.00000000e+00,  0.00000000e+00,\n",
       "          0.00000000e+00,  0.00000000e+00],\n",
       "        [ 0.00000000e+00,  0.00000000e+00,  0.00000000e+00,\n",
       "          0.00000000e+00,  1.00000000e+00,  0.00000000e+00,\n",
       "          0.00000000e+00,  0.00000000e+00,  0.00000000e+00,\n",
       "          0.00000000e+00,  0.00000000e+00],\n",
       "        [ 4.65661287e-10,  0.00000000e+00, -4.65661287e-10,\n",
       "         -2.32830644e-09,  0.00000000e+00,  1.00000000e+00,\n",
       "          4.65661287e-10,  0.00000000e+00, -4.65661287e-10,\n",
       "          4.65661287e-10,  4.65661287e-10],\n",
       "        [-5.43236810e-10,  0.00000000e+00,  3.88079457e-10,\n",
       "          3.88095944e-10,  0.00000000e+00,  3.88093113e-10,\n",
       "          9.99999999e-01,  0.00000000e+00,  3.88093113e-10,\n",
       "         -5.43231772e-10, -5.43228108e-10],\n",
       "        [ 0.00000000e+00,  2.94209102e-15,  0.00000000e+00,\n",
       "          0.00000000e+00,  2.94209102e-15,  0.00000000e+00,\n",
       "          0.00000000e+00,  1.00000000e+00,  0.00000000e+00,\n",
       "          0.00000000e+00,  0.00000000e+00],\n",
       "        [-1.39698386e-09,  0.00000000e+00, -1.39698386e-09,\n",
       "         -1.39698386e-09,  0.00000000e+00, -4.65661287e-10,\n",
       "         -1.39698386e-09,  0.00000000e+00,  1.00000000e+00,\n",
       "         -4.65661287e-10, -1.39698386e-09],\n",
       "        [ 3.88089616e-10,  0.00000000e+00, -7.75697354e-11,\n",
       "         -7.75727330e-11,  0.00000000e+00, -1.94021822e-09,\n",
       "         -5.43231751e-10,  0.00000000e+00, -7.75730660e-11,\n",
       "          9.99999999e-01, -5.43234249e-10],\n",
       "        [-7.75695272e-11,  0.00000000e+00,  3.88095944e-10,\n",
       "          3.88084453e-10,  0.00000000e+00, -1.47455853e-09,\n",
       "         -7.75668210e-11,  0.00000000e+00,  3.88086618e-10,\n",
       "         -7.75729828e-11,  1.00000000e+00]])"
      ]
     },
     "execution_count": 21,
     "metadata": {},
     "output_type": "execute_result"
    }
   ],
   "source": [
    "cov = sigma.toarray()\n",
    "Q_jitter.dot(cov)"
   ]
  },
  {
   "cell_type": "code",
   "execution_count": 22,
   "metadata": {},
   "outputs": [],
   "source": [
    "# V \\in Null(Q)\n",
    "\n",
    "V = np.ones(n)  # from pg. 6\n",
    "\n",
    "W = sigma @ V.T  # \\Sigma * B in 3.17\n",
    "\n",
    "Q_inv = sigma - np.outer(W * solve(V @ W, np.ones(1)), W.T)"
   ]
  },
  {
   "cell_type": "code",
   "execution_count": 23,
   "metadata": {},
   "outputs": [
    {
     "data": {
      "text/plain": [
       "array([[  762601.36738122, -2033601.93801671,   762600.99238118,\n",
       "          762600.24238134, -2033601.93801671,   762600.4923813 ,\n",
       "          762601.11738119, -2033601.93801671,   762600.4923813 ,\n",
       "          762600.74238127,   762600.36738132],\n",
       "       [-2033601.93801671,  5422939.05693343, -2033601.93801671,\n",
       "        -2033601.93801671,  5422938.05693347, -2033601.93801671,\n",
       "        -2033601.93801671,  5422938.39026679, -2033601.93801671,\n",
       "        -2033601.93801671, -2033601.93801671],\n",
       "       [  762600.99238118, -2033601.93801671,   762602.61738096,\n",
       "          762599.86738145, -2033601.93801671,   762600.11738138,\n",
       "          762601.74238105, -2033601.93801671,   762600.11738138,\n",
       "          762600.36738132,   762599.99238142],\n",
       "       [  762600.24238134, -2033601.93801671,   762599.86738145,\n",
       "          762602.1173811 , -2033601.93801671,   762600.8673812 ,\n",
       "          762599.99238142, -2033601.93801671,   762600.8673812 ,\n",
       "          762600.61738125,   762601.24238116],\n",
       "       [-2033601.93801671,  5422938.05693347, -2033601.93801671,\n",
       "        -2033601.93801671,  5422939.05693343, -2033601.93801671,\n",
       "        -2033601.93801671,  5422938.39026679, -2033601.93801671,\n",
       "        -2033601.93801671, -2033601.93801671],\n",
       "       [  762600.4923813 , -2033601.93801671,   762600.11738138,\n",
       "          762600.8673812 , -2033601.93801671,   762601.24238122,\n",
       "          762600.24238135, -2033601.93801671,   762600.99238122,\n",
       "          762600.86738124,   762600.99238121],\n",
       "       [  762601.11738119, -2033601.93801671,   762601.74238105,\n",
       "          762599.99238142, -2033601.93801671,   762600.24238135,\n",
       "          762601.86738109, -2033601.93801671,   762600.24238135,\n",
       "          762600.4923813 ,   762600.11738138],\n",
       "       [-2033601.93801671,  5422938.39026679, -2033601.93801671,\n",
       "        -2033601.93801671,  5422938.39026679, -2033601.93801671,\n",
       "        -2033601.93801671,  5422938.72360011, -2033601.93801671,\n",
       "        -2033601.93801671, -2033601.93801671],\n",
       "       [  762600.4923813 , -2033601.93801671,   762600.11738138,\n",
       "          762600.8673812 , -2033601.93801671,   762600.99238122,\n",
       "          762600.24238135, -2033601.93801671,   762601.24238122,\n",
       "          762600.86738124,   762600.99238121],\n",
       "       [  762600.74238128, -2033601.93801671,   762600.36738132,\n",
       "          762600.61738125, -2033601.93801671,   762600.86738124,\n",
       "          762600.4923813 , -2033601.93801671,   762600.86738124,\n",
       "          762601.11738125,   762600.74238125],\n",
       "       [  762600.36738132, -2033601.93801671,   762599.99238142,\n",
       "          762601.24238116, -2033601.93801671,   762600.99238121,\n",
       "          762600.11738138, -2033601.93801671,   762600.99238121,\n",
       "          762600.74238125,   762601.36738118]])"
      ]
     },
     "execution_count": 23,
     "metadata": {},
     "output_type": "execute_result"
    }
   ],
   "source": [
    "Q_inv"
   ]
  },
  {
   "cell_type": "code",
   "execution_count": 24,
   "metadata": {},
   "outputs": [
    {
     "name": "stdout",
     "output_type": "stream",
     "text": [
      "1302099.5075113948\n"
     ]
    }
   ],
   "source": [
    "# grabbing diag of cov gives var and\n",
    "\n",
    "# arithmetic mean in log-space becomes geometric mean after exp\n",
    "\n",
    "scaling = np.exp(np.sum(np.log(np.diag(Q_inv))) / n)\n",
    "\n",
    "print(scaling)"
   ]
  },
  {
   "cell_type": "code",
   "execution_count": null,
   "metadata": {},
   "outputs": [],
   "source": []
  },
  {
   "cell_type": "code",
   "execution_count": null,
   "metadata": {},
   "outputs": [],
   "source": []
  }
 ],
 "metadata": {
  "kernelspec": {
   "display_name": "TDA",
   "language": "python",
   "name": "python3"
  },
  "language_info": {
   "codemirror_mode": {
    "name": "ipython",
    "version": 3
   },
   "file_extension": ".py",
   "mimetype": "text/x-python",
   "name": "python",
   "nbconvert_exporter": "python",
   "pygments_lexer": "ipython3",
   "version": "3.11.4"
  }
 },
 "nbformat": 4,
 "nbformat_minor": 2
}
