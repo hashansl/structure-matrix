{
 "cells": [
  {
   "cell_type": "markdown",
   "metadata": {},
   "source": [
    "##### Compare our code with Dr. Adams solution"
   ]
  },
  {
   "cell_type": "code",
   "execution_count": 1,
   "metadata": {},
   "outputs": [],
   "source": [
    "# import pickle file and print the content\n",
    "import pickle\n",
    "\n",
    "# variableAndQmatrix.pickle\n",
    "with open('variableAndQmatrix.pickle', 'rb') as f:\n",
    "    data = pickle.load(f)\n"
   ]
  },
  {
   "cell_type": "code",
   "execution_count": 2,
   "metadata": {},
   "outputs": [
    {
     "name": "stdout",
     "output_type": "stream",
     "text": [
      "EP_DISABL\n",
      "Determinant: (array([0.]), 2)\n",
      "EP_PCI\n",
      "Determinant: (array([0.]), 2)\n",
      "EP_LIMENG\n",
      "Determinant: (array([-1.17615891e-10]), 2)\n",
      "EP_CROWD\n",
      "Determinant: (array([0.]), 2)\n",
      "EP_UNINSUR\n",
      "Determinant: (array([3.91085014e-15]), 2)\n"
     ]
    }
   ],
   "source": [
    "import numpy as np\n",
    "# get the determinant of each Q matrix\n",
    "for variable, Qmatrix in data.items():\n",
    "    print(variable, sep='\\n')\n",
    "    print('Determinant:', (np.linalg.det(Qmatrix), 2))\n"
   ]
  },
  {
   "cell_type": "code",
   "execution_count": 14,
   "metadata": {},
   "outputs": [],
   "source": [
    "Qmatrix = data['EP_DISABL'][0]"
   ]
  },
  {
   "cell_type": "code",
   "execution_count": 15,
   "metadata": {},
   "outputs": [
    {
     "name": "stdout",
     "output_type": "stream",
     "text": [
      "(11, 11)\n"
     ]
    }
   ],
   "source": [
    "# ger the shape of the df\n",
    "print(Qmatrix.shape)"
   ]
  },
  {
   "cell_type": "markdown",
   "metadata": {},
   "source": [
    "##### Dr. Adams code"
   ]
  },
  {
   "cell_type": "code",
   "execution_count": 16,
   "metadata": {},
   "outputs": [],
   "source": [
    "import scipy as sp\n",
    "from scipy.linalg import solve\n",
    "from scipy.sparse.linalg import spsolve"
   ]
  },
  {
   "cell_type": "code",
   "execution_count": 17,
   "metadata": {},
   "outputs": [],
   "source": [
    "# Qmatrix dataframe to numpy array\n",
    "Qmatrix_ = Qmatrix.to_numpy()"
   ]
  },
  {
   "cell_type": "code",
   "execution_count": 18,
   "metadata": {},
   "outputs": [
    {
     "data": {
      "text/plain": [
       "11"
      ]
     },
     "execution_count": 18,
     "metadata": {},
     "output_type": "execute_result"
    }
   ],
   "source": [
    "n = Qmatrix_.shape[0]\n",
    "n"
   ]
  },
  {
   "cell_type": "code",
   "execution_count": 19,
   "metadata": {},
   "outputs": [],
   "source": [
    "# Add jitter to the diagonal of \n",
    "# In the context of the provided code, \"jittered\" refers to the process of adding \n",
    "# small random variations to the diagonal elements of the matrix Qmatrix_. \n",
    "# This is achieved by multiplying a sparse diagonal matrix (constructed with ones along the main diagonal)\n",
    "# by the maximum value along the diagonal of Qmatrix_ and the square root of the machine epsilon.\n",
    "\n",
    "Q_jitter = Qmatrix_ + sp.sparse.diags(np.ones(n)) * max(Qmatrix_.diagonal()) * np.sqrt(\n",
    "\n",
    "    np.finfo(np.float64).eps\n",
    "\n",
    ")"
   ]
  },
  {
   "cell_type": "code",
   "execution_count": 42,
   "metadata": {},
   "outputs": [],
   "source": [
    "# inverse of precision (Q) is cov\n",
    "\n",
    "# Convert to sparse CSC matrix\n",
    "Q_perturbed = sp.sparse.csc_array(Q_jitter)\n",
    "\n",
    "# The CSC (Compressed Sparse Column) format is a way of representing sparse matrices in a compressed form, \n",
    "# particularly efficient for matrices with many zeros. In CSC format, the matrix is stored as three one-dimensional arrays:\n",
    "# one for the non-zero values, one for the row indices, and one for the column indices.\n",
    "\n",
    "# The spsolve function is used to solve the linear system Q_perturbed * sigma = b for sigma, where\n",
    "b = sp.sparse.identity(n, format='csc')\n",
    "\n",
    "# sigma is the inverse of Q_perturbed\n",
    "sigma = spsolve(Q_perturbed, b)\n",
    "\n",
    "# If matrices A and B satisfy the equation A⋅B=I, \n",
    "# where I is the identity matrix, then B is the inverse of A, and A is the inverse of B.\n",
    "\n",
    "# this inverse of Q_perturbed is the covariance matrix of the Q_perturbed in bayesian statistics"
   ]
  },
  {
   "cell_type": "code",
   "execution_count": 43,
   "metadata": {},
   "outputs": [],
   "source": [
    "# V \\in Null(Q)\n",
    "\n",
    "# defines V rather than solving for it from V.T b=0\n",
    "# In R they have nrow=1, ncol=12 as the shape of V. but on here it is ncol=1, nrow=12 \n",
    "# becase of that we use V.T instead of V\n",
    "V = np.ones(n)  # from pg. 6\n",
    "\n",
    "W = sigma @ V.T  # \\Sigma * B in 3.17\n",
    "\n",
    "#\n",
    "Q_inv = sigma - np.outer(W * solve(V @ W, np.ones(1)), W.T)"
   ]
  },
  {
   "cell_type": "code",
   "execution_count": 44,
   "metadata": {},
   "outputs": [
    {
     "data": {
      "text/plain": [
       "array([1.])"
      ]
     },
     "execution_count": 44,
     "metadata": {},
     "output_type": "execute_result"
    }
   ],
   "source": [
    "np.ones(1)"
   ]
  },
  {
   "cell_type": "code",
   "execution_count": 36,
   "metadata": {},
   "outputs": [
    {
     "data": {
      "text/plain": [
       "(11,)"
      ]
     },
     "execution_count": 36,
     "metadata": {},
     "output_type": "execute_result"
    }
   ],
   "source": [
    "V.shape"
   ]
  },
  {
   "cell_type": "code",
   "execution_count": 37,
   "metadata": {},
   "outputs": [
    {
     "data": {
      "text/plain": [
       "(11,)"
      ]
     },
     "execution_count": 37,
     "metadata": {},
     "output_type": "execute_result"
    }
   ],
   "source": [
    "W.shape"
   ]
  },
  {
   "cell_type": "code",
   "execution_count": 40,
   "metadata": {},
   "outputs": [],
   "source": []
  },
  {
   "cell_type": "code",
   "execution_count": 41,
   "metadata": {},
   "outputs": [
    {
     "ename": "ValueError",
     "evalue": "Input must be 1- or 2-d.",
     "output_type": "error",
     "traceback": [
      "\u001b[0;31m---------------------------------------------------------------------------\u001b[0m",
      "\u001b[0;31mValueError\u001b[0m                                Traceback (most recent call last)",
      "Cell \u001b[0;32mIn[41], line 5\u001b[0m\n\u001b[1;32m      1\u001b[0m \u001b[38;5;66;03m# grabbing diag of cov gives var and\u001b[39;00m\n\u001b[1;32m      2\u001b[0m \n\u001b[1;32m      3\u001b[0m \u001b[38;5;66;03m# arithmetic mean in log-space becomes geometric mean after exp\u001b[39;00m\n\u001b[0;32m----> 5\u001b[0m scaling \u001b[38;5;241m=\u001b[39m np\u001b[38;5;241m.\u001b[39mexp(np\u001b[38;5;241m.\u001b[39msum(np\u001b[38;5;241m.\u001b[39mlog(np\u001b[38;5;241m.\u001b[39mdiag(Q_inv))) \u001b[38;5;241m/\u001b[39m n)\n\u001b[1;32m      7\u001b[0m \u001b[38;5;28mprint\u001b[39m(scaling)\n",
      "File \u001b[0;32m<__array_function__ internals>:200\u001b[0m, in \u001b[0;36mdiag\u001b[0;34m(*args, **kwargs)\u001b[0m\n",
      "File \u001b[0;32m~/anaconda3/envs/TDA/lib/python3.11/site-packages/numpy/lib/twodim_base.py:309\u001b[0m, in \u001b[0;36mdiag\u001b[0;34m(v, k)\u001b[0m\n\u001b[1;32m    307\u001b[0m     \u001b[38;5;28;01mreturn\u001b[39;00m diagonal(v, k)\n\u001b[1;32m    308\u001b[0m \u001b[38;5;28;01melse\u001b[39;00m:\n\u001b[0;32m--> 309\u001b[0m     \u001b[38;5;28;01mraise\u001b[39;00m \u001b[38;5;167;01mValueError\u001b[39;00m(\u001b[38;5;124m\"\u001b[39m\u001b[38;5;124mInput must be 1- or 2-d.\u001b[39m\u001b[38;5;124m\"\u001b[39m)\n",
      "\u001b[0;31mValueError\u001b[0m: Input must be 1- or 2-d."
     ]
    }
   ],
   "source": [
    "# grabbing diag of cov gives var and\n",
    "\n",
    "# arithmetic mean in log-space becomes geometric mean after exp\n",
    "\n",
    "scaling = np.exp(np.sum(np.log(np.diag(Q_inv))) / n)\n",
    "\n",
    "print(scaling)"
   ]
  },
  {
   "cell_type": "code",
   "execution_count": null,
   "metadata": {},
   "outputs": [],
   "source": []
  },
  {
   "cell_type": "code",
   "execution_count": null,
   "metadata": {},
   "outputs": [],
   "source": []
  }
 ],
 "metadata": {
  "kernelspec": {
   "display_name": "TDA",
   "language": "python",
   "name": "python3"
  },
  "language_info": {
   "codemirror_mode": {
    "name": "ipython",
    "version": 3
   },
   "file_extension": ".py",
   "mimetype": "text/x-python",
   "name": "python",
   "nbconvert_exporter": "python",
   "pygments_lexer": "ipython3",
   "version": "3.11.4"
  }
 },
 "nbformat": 4,
 "nbformat_minor": 2
}
