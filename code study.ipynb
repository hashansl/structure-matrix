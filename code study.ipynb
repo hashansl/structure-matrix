{
 "cells": [
  {
   "cell_type": "markdown",
   "metadata": {},
   "source": [
    "##### Compare our code with Dr. Adams solution"
   ]
  },
  {
   "cell_type": "code",
   "execution_count": 1,
   "metadata": {},
   "outputs": [],
   "source": [
    "# import pickle file and print the content\n",
    "import pickle\n",
    "\n",
    "# variableAndQmatrix.pickle\n",
    "with open('variableAndQmatrix.pickle', 'rb') as f:\n",
    "    data = pickle.load(f)\n"
   ]
  },
  {
   "cell_type": "code",
   "execution_count": 2,
   "metadata": {},
   "outputs": [
    {
     "name": "stdout",
     "output_type": "stream",
     "text": [
      "EP_DISABL\n",
      "Determinant: (array([0.]), 2)\n",
      "EP_PCI\n",
      "Determinant: (array([0.]), 2)\n",
      "EP_LIMENG\n",
      "Determinant: (array([-1.17615891e-10]), 2)\n",
      "EP_CROWD\n",
      "Determinant: (array([0.]), 2)\n",
      "EP_UNINSUR\n",
      "Determinant: (array([3.91085014e-15]), 2)\n"
     ]
    }
   ],
   "source": [
    "import numpy as np\n",
    "# get the determinant of each Q matrix\n",
    "for variable, Qmatrix in data.items():\n",
    "    print(variable, sep='\\n')\n",
    "    print('Determinant:', (np.linalg.det(Qmatrix), 2))\n"
   ]
  },
  {
   "cell_type": "code",
   "execution_count": 14,
   "metadata": {},
   "outputs": [],
   "source": [
    "Qmatrix = data['EP_DISABL'][0]"
   ]
  },
  {
   "cell_type": "code",
   "execution_count": 15,
   "metadata": {},
   "outputs": [
    {
     "name": "stdout",
     "output_type": "stream",
     "text": [
      "(11, 11)\n"
     ]
    }
   ],
   "source": [
    "# ger the shape of the df\n",
    "print(Qmatrix.shape)"
   ]
  },
  {
   "cell_type": "markdown",
   "metadata": {},
   "source": [
    "##### Dr. Adams code"
   ]
  },
  {
   "cell_type": "code",
   "execution_count": 16,
   "metadata": {},
   "outputs": [],
   "source": [
    "import scipy as sp\n",
    "from scipy.linalg import solve\n",
    "from scipy.sparse.linalg import spsolve"
   ]
  },
  {
   "cell_type": "code",
   "execution_count": 17,
   "metadata": {},
   "outputs": [],
   "source": [
    "# Qmatrix dataframe to numpy array\n",
    "Qmatrix_ = Qmatrix.to_numpy()"
   ]
  },
  {
   "cell_type": "code",
   "execution_count": 18,
   "metadata": {},
   "outputs": [
    {
     "data": {
      "text/plain": [
       "11"
      ]
     },
     "execution_count": 18,
     "metadata": {},
     "output_type": "execute_result"
    }
   ],
   "source": [
    "n = Qmatrix_.shape[0]\n",
    "n"
   ]
  },
  {
   "cell_type": "code",
   "execution_count": 19,
   "metadata": {},
   "outputs": [],
   "source": [
    "# Add jitter to the diagonal of \n",
    "# In the context of the provided code, \"jittered\" refers to the process of adding \n",
    "# small random variations to the diagonal elements of the matrix Qmatrix_. \n",
    "# This is achieved by multiplying a sparse diagonal matrix (constructed with ones along the main diagonal)\n",
    "# by the maximum value along the diagonal of Qmatrix_ and the square root of the machine epsilon.\n",
    "\n",
    "Q_jitter = Qmatrix_ + sp.sparse.diags(np.ones(n)) * max(Qmatrix_.diagonal()) * np.sqrt(\n",
    "\n",
    "    np.finfo(np.float64).eps\n",
    "\n",
    ")"
   ]
  },
  {
   "cell_type": "code",
   "execution_count": 42,
   "metadata": {},
   "outputs": [],
   "source": [
    "# inverse of precision (Q) is cov\n",
    "\n",
    "# Convert to sparse CSC matrix\n",
    "Q_perturbed = sp.sparse.csc_array(Q_jitter)\n",
    "\n",
    "# The CSC (Compressed Sparse Column) format is a way of representing sparse matrices in a compressed form, \n",
    "# particularly efficient for matrices with many zeros. In CSC format, the matrix is stored as three one-dimensional arrays:\n",
    "# one for the non-zero values, one for the row indices, and one for the column indices.\n",
    "\n",
    "# The spsolve function is used to solve the linear system Q_perturbed * sigma = b for sigma, where\n",
    "b = sp.sparse.identity(n, format='csc')\n",
    "\n",
    "# sigma is the inverse of Q_perturbed\n",
    "sigma = spsolve(Q_perturbed, b)\n",
    "\n",
    "# If matrices A and B satisfy the equation A⋅B=I, \n",
    "# where I is the identity matrix, then B is the inverse of A, and A is the inverse of B.\n",
    "\n",
    "# this inverse of Q_perturbed is the covariance matrix of the Q_perturbed in bayesian statistics"
   ]
  },
  {
   "cell_type": "code",
   "execution_count": 50,
   "metadata": {},
   "outputs": [],
   "source": [
    "# V \\in Null(Q)\n",
    "\n",
    "# defines V rather than solving for it from V.T b=0\n",
    "# In R they have nrow=1, ncol=12 as the shape of V. but on here it is ncol=1, nrow=12 \n",
    "# becase of that we use V.T instead of V\n",
    "V = np.ones(n)  # from pg. 6\n",
    "\n",
    "W = sigma @ V.T  # \\Sigma * B in 3.17\n",
    "\n",
    "# \n",
    "Q_inv = sigma - np.outer(W * solve(V @ W, np.ones(1)), W.T)"
   ]
  },
  {
   "cell_type": "code",
   "execution_count": 45,
   "metadata": {},
   "outputs": [
    {
     "data": {
      "text/plain": [
       "(11,)"
      ]
     },
     "execution_count": 45,
     "metadata": {},
     "output_type": "execute_result"
    }
   ],
   "source": [
    "V.shape"
   ]
  },
  {
   "cell_type": "code",
   "execution_count": 46,
   "metadata": {},
   "outputs": [
    {
     "data": {
      "text/plain": [
       "(11,)"
      ]
     },
     "execution_count": 46,
     "metadata": {},
     "output_type": "execute_result"
    }
   ],
   "source": [
    "W.shape"
   ]
  },
  {
   "cell_type": "code",
   "execution_count": 47,
   "metadata": {},
   "outputs": [
    {
     "data": {
      "text/plain": [
       "246065834.2222774"
      ]
     },
     "execution_count": 47,
     "metadata": {},
     "output_type": "execute_result"
    }
   ],
   "source": [
    "V.dot(W)"
   ]
  },
  {
   "cell_type": "code",
   "execution_count": 44,
   "metadata": {},
   "outputs": [
    {
     "data": {
      "text/plain": [
       "array([1.])"
      ]
     },
     "execution_count": 44,
     "metadata": {},
     "output_type": "execute_result"
    }
   ],
   "source": [
    "np.ones(1)"
   ]
  },
  {
   "cell_type": "code",
   "execution_count": 36,
   "metadata": {},
   "outputs": [
    {
     "data": {
      "text/plain": [
       "(11,)"
      ]
     },
     "execution_count": 36,
     "metadata": {},
     "output_type": "execute_result"
    }
   ],
   "source": [
    "V.shape"
   ]
  },
  {
   "cell_type": "code",
   "execution_count": 37,
   "metadata": {},
   "outputs": [
    {
     "data": {
      "text/plain": [
       "(11,)"
      ]
     },
     "execution_count": 37,
     "metadata": {},
     "output_type": "execute_result"
    }
   ],
   "source": [
    "W.shape"
   ]
  },
  {
   "cell_type": "code",
   "execution_count": 40,
   "metadata": {},
   "outputs": [],
   "source": []
  },
  {
   "cell_type": "code",
   "execution_count": 51,
   "metadata": {},
   "outputs": [
    {
     "name": "stdout",
     "output_type": "stream",
     "text": [
      "1302099.5075113948\n"
     ]
    }
   ],
   "source": [
    "# grabbing diag of cov gives var and\n",
    "\n",
    "# arithmetic mean in log-space becomes geometric mean after exp\n",
    "\n",
    "scaling = np.exp(np.sum(np.log(np.diag(Q_inv))) / n)\n",
    "\n",
    "print(scaling)"
   ]
  },
  {
   "cell_type": "code",
   "execution_count": null,
   "metadata": {},
   "outputs": [],
   "source": []
  },
  {
   "cell_type": "code",
   "execution_count": null,
   "metadata": {},
   "outputs": [],
   "source": []
  }
 ],
 "metadata": {
  "kernelspec": {
   "display_name": "TDA",
   "language": "python",
   "name": "python3"
  },
  "language_info": {
   "codemirror_mode": {
    "name": "ipython",
    "version": 3
   },
   "file_extension": ".py",
   "mimetype": "text/x-python",
   "name": "python",
   "nbconvert_exporter": "python",
   "pygments_lexer": "ipython3",
   "version": "3.11.4"
  }
 },
 "nbformat": 4,
 "nbformat_minor": 2
}
