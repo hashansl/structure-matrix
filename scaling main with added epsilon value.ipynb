{
 "cells": [
  {
   "cell_type": "markdown",
   "metadata": {},
   "source": [
    "#### Scaling main - Arnsberg"
   ]
  },
  {
   "cell_type": "code",
   "execution_count": 2,
   "metadata": {},
   "outputs": [],
   "source": [
    "import pickle\n",
    "import numpy as np\n",
    "from scipy.linalg import null_space"
   ]
  },
  {
   "cell_type": "code",
   "execution_count": 3,
   "metadata": {},
   "outputs": [
    {
     "name": "stdout",
     "output_type": "stream",
     "text": [
      "Q matrix which we got from adjacencies:\n",
      "[[ 3 -1 -1  0  0 -1  0  0  0  0  0  0]\n",
      " [-1  4 -1 -1  0  0  0  0  0  0  0 -1]\n",
      " [-1 -1  4 -1  0  0  0 -1  0  0  0  0]\n",
      " [ 0 -1 -1  4  0  0  0 -1  0  0  0 -1]\n",
      " [ 0  0  0  0  2  0  0  0  0  0 -1 -1]\n",
      " [-1  0  0  0  0  1  0  0  0  0  0  0]\n",
      " [ 0  0  0  0  0  0  4 -1 -1 -1 -1  0]\n",
      " [ 0  0 -1 -1  0  0 -1  6 -1  0 -1 -1]\n",
      " [ 0  0  0  0  0  0 -1 -1  3 -1  0  0]\n",
      " [ 0  0  0  0  0  0 -1  0 -1  2  0  0]\n",
      " [ 0  0  0  0 -1  0 -1 -1  0  0  4 -1]\n",
      " [ 0 -1  0 -1 -1  0  0 -1  0  0 -1  5]]\n"
     ]
    }
   ],
   "source": [
    "# Load matrix from file\n",
    "with open('matrix_arnsberg.pkl', 'rb') as f:\n",
    "    Q = pickle.load(f)\n",
    "\n",
    "print(\"Q matrix which we got from adjacencies:\")\n",
    "print(Q)"
   ]
  },
  {
   "cell_type": "code",
   "execution_count": 4,
   "metadata": {},
   "outputs": [],
   "source": [
    "# get the machine epsilon\n",
    "eps = np.finfo(float).eps   \n",
    "\n",
    "# add small epsion value to the diagonal of the matrix\n",
    "Q = Q + np.eye(Q.shape[0]) * np.sqrt(eps)"
   ]
  },
  {
   "cell_type": "code",
   "execution_count": 5,
   "metadata": {},
   "outputs": [
    {
     "data": {
      "text/plain": [
       "0.0023270847373585007"
      ]
     },
     "execution_count": 5,
     "metadata": {},
     "output_type": "execute_result"
    }
   ],
   "source": [
    "# get the determinant of the matrix\n",
    "det = np.linalg.det(Q)\n",
    "det"
   ]
  },
  {
   "cell_type": "markdown",
   "metadata": {},
   "source": [
    "#### Compute the generalized inverse\n",
    "##### The generalized inverse of a matrix, also known as the Moore-Penrose inverse (oseudo Inverse)"
   ]
  },
  {
   "cell_type": "markdown",
   "metadata": {},
   "source": [
    "This code performs the following steps:\n",
    "\n",
    "1. **Compute SVD of Q**: Singular value decomposition decomposes the matrix \\( Q \\) into three matrices \\( U \\), \\( S \\), and \\( V^T \\), such that \\( Q = U \\cdot \\text{diag}(S) \\cdot V^T \\), where \\( U \\) and \\( V \\) are orthogonal matrices and \\( S \\) is a diagonal matrix containing the singular values.\n",
    "\n",
    "2. **Set Threshold for Singular Values**: We set a threshold value to determine when a singular value is considered nonzero. This is necessary to avoid numerical instability issues.\n",
    "\n",
    "3. **Calculate Inverse of Singular Values**: We calculate the inverse of the singular values, ensuring that we avoid dividing by very small values close to zero.\n",
    "\n",
    "4. **Construct the Generalized Inverse**: Using the inverse of singular values obtained in the previous step, we construct the generalized inverse of \\( Q \\) using the formula \\( Q^{-} = V \\cdot \\text{diag}(1/S_{\\text{inv}}) \\cdot U^T \\).\n",
    "\n",
    "The resulting matrix \\( Q^{-} \\) is the generalized inverse of \\( Q \\)."
   ]
  },
  {
   "cell_type": "code",
   "execution_count": 6,
   "metadata": {},
   "outputs": [],
   "source": [
    "# Compute SVD of Q\n",
    "U, S, Vt = np.linalg.svd(Q)"
   ]
  },
  {
   "cell_type": "code",
   "execution_count": 7,
   "metadata": {},
   "outputs": [
    {
     "data": {
      "text/plain": [
       "1.4901161193847656e-08"
      ]
     },
     "execution_count": 7,
     "metadata": {},
     "output_type": "execute_result"
    }
   ],
   "source": [
    "# get the machine epsilon\n",
    "eps = np.finfo(float).eps\n",
    "tol = np.sqrt(eps)\n",
    "tol"
   ]
  },
  {
   "cell_type": "code",
   "execution_count": 8,
   "metadata": {},
   "outputs": [],
   "source": [
    "# Calculate inverse of singular values\n",
    "S_inv = np.where(S > tol, 1/S, 0)"
   ]
  },
  {
   "cell_type": "code",
   "execution_count": 9,
   "metadata": {},
   "outputs": [],
   "source": [
    "# Construct the generalized inverse\n",
    "Q_inv = Vt.T @ np.diag(S_inv) @ U.T"
   ]
  },
  {
   "cell_type": "code",
   "execution_count": 10,
   "metadata": {},
   "outputs": [
    {
     "name": "stdout",
     "output_type": "stream",
     "text": [
      "Generalized Inverse of Q:\n",
      "[[ 0.52957871  0.11550541  0.11031869 -0.01208794 -0.16325207  0.44624537\n",
      "  -0.20543741 -0.10838808 -0.21661767 -0.25269421 -0.16071634 -0.08245447]\n",
      " [ 0.11550541  0.30516655  0.09251095  0.07383875 -0.06833506  0.03217208\n",
      "  -0.13126729 -0.04113359 -0.1452138  -0.17990721 -0.07548121  0.02214442]\n",
      " [ 0.11031869  0.09251095  0.2947931   0.06865203 -0.09150242  0.02698536\n",
      "  -0.11294087 -0.00897591 -0.12135488 -0.15881454 -0.07928481 -0.0203867 ]\n",
      " [-0.01208794  0.07383875  0.06865203  0.27957872 -0.03825207 -0.09542128\n",
      "  -0.08043741  0.01661192 -0.09161768 -0.12769421 -0.03571634  0.04254553]\n",
      " [-0.16325207 -0.06833506 -0.09150242 -0.03825207  0.57914073 -0.2465854\n",
      "  -0.03150934 -0.01283714 -0.07404046 -0.09444156  0.13861514  0.10299965]\n",
      " [ 0.44624537  0.03217208  0.02698536 -0.09542128 -0.2465854   1.36291202\n",
      "  -0.28877074 -0.19172141 -0.299951   -0.33602753 -0.24404967 -0.1657878 ]\n",
      " [-0.20543741 -0.13126729 -0.11294087 -0.08043741 -0.03150934 -0.28877074\n",
      "   0.36198997  0.04871196  0.18667876  0.2326677   0.06323478 -0.04292012]\n",
      " [-0.10838808 -0.04113359 -0.00897591  0.01661192 -0.01283714 -0.19172141\n",
      "   0.04871196  0.18033944  0.05136295  0.00837079  0.038108    0.01955106]\n",
      " [-0.21661767 -0.1452138  -0.12135488 -0.09161768 -0.07404046 -0.299951\n",
      "   0.18667876  0.05136295  0.48255244  0.29294893  0.00318407 -0.06793165]\n",
      " [-0.25269421 -0.17990721 -0.15881454 -0.12769421 -0.09444156 -0.33602753\n",
      "   0.2326677   0.00837079  0.29294893  0.72114164 -0.00845724 -0.09709255]\n",
      " [-0.16071634 -0.07548121 -0.07928481 -0.03571634  0.13861514 -0.24404967\n",
      "   0.06323478  0.038108    0.00318407 -0.00845724  0.30343764  0.05712598]\n",
      " [-0.08245447  0.02214442 -0.0203867   0.04254553  0.10299965 -0.1657878\n",
      "  -0.04292012  0.01955106 -0.06793165 -0.09709255  0.05712598  0.23220666]]\n"
     ]
    }
   ],
   "source": [
    "print(\"Generalized Inverse of Q:\")\n",
    "print(Q_inv)"
   ]
  },
  {
   "cell_type": "markdown",
   "metadata": {},
   "source": [
    "### Compute generalized variance - using Q Inv"
   ]
  },
  {
   "cell_type": "code",
   "execution_count": 11,
   "metadata": {},
   "outputs": [
    {
     "data": {
      "text/plain": [
       "0.4001011249419349"
      ]
     },
     "execution_count": 11,
     "metadata": {},
     "output_type": "execute_result"
    }
   ],
   "source": [
    "generalized_variance = np.exp(np.mean(np.log(np.diag(Q_inv))))  # equation in the paper use daba as 1\n",
    "generalized_variance #fac in R code"
   ]
  },
  {
   "cell_type": "code",
   "execution_count": 12,
   "metadata": {},
   "outputs": [
    {
     "data": {
      "text/plain": [
       "array([1.32361215, 0.76272354, 0.73679649, 0.69877014, 1.44748587,\n",
       "       3.40641886, 0.90474619, 0.45073465, 1.20607618, 1.80239843,\n",
       "       0.75840237, 0.58036993])"
      ]
     },
     "execution_count": 12,
     "metadata": {},
     "output_type": "execute_result"
    }
   ],
   "source": [
    "marginal_variances = np.diag(Q_inv/generalized_variance)\n",
    "marginal_variances"
   ]
  },
  {
   "cell_type": "code",
   "execution_count": 13,
   "metadata": {},
   "outputs": [
    {
     "data": {
      "text/plain": [
       "0.9999999999999999"
      ]
     },
     "execution_count": 13,
     "metadata": {},
     "output_type": "execute_result"
    }
   ],
   "source": [
    "geometric_mean = np.exp(np.mean(np.log(marginal_variances)))\n",
    "geometric_mean"
   ]
  },
  {
   "cell_type": "code",
   "execution_count": 14,
   "metadata": {},
   "outputs": [
    {
     "name": "stdout",
     "output_type": "stream",
     "text": [
      "[1.20030338 1.60040451 1.60040451 1.60040451 0.80020226 0.40010113\n",
      " 1.60040451 2.40060676 1.20030338 0.80020226 1.60040451 2.00050563]\n"
     ]
    }
   ],
   "source": [
    "QQ = generalized_variance*Q # this is completely different!\n",
    "print(np.diag(QQ))"
   ]
  },
  {
   "cell_type": "code",
   "execution_count": null,
   "metadata": {},
   "outputs": [],
   "source": []
  }
 ],
 "metadata": {
  "kernelspec": {
   "display_name": "TDA",
   "language": "python",
   "name": "python3"
  },
  "language_info": {
   "codemirror_mode": {
    "name": "ipython",
    "version": 3
   },
   "file_extension": ".py",
   "mimetype": "text/x-python",
   "name": "python",
   "nbconvert_exporter": "python",
   "pygments_lexer": "ipython3",
   "version": "3.11.4"
  }
 },
 "nbformat": 4,
 "nbformat_minor": 2
}
