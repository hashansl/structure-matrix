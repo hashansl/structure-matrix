{
 "cells": [
  {
   "cell_type": "code",
   "execution_count": 2,
   "metadata": {},
   "outputs": [],
   "source": [
    "from scipy.linalg import solve\n",
    "from scipy.sparse.linalg import spsolve\n",
    "import numpy as np"
   ]
  },
  {
   "cell_type": "code",
   "execution_count": 3,
   "metadata": {},
   "outputs": [],
   "source": [
    "Q = np.array([[ 1., -1.,  0.,  0.,  0.,  0.,  0.,  0.,  0.,  0.,  0.,  0.],\n",
    "\n",
    "       [-1.,  5.,  0.,  0.,  0., -1.,  0., -1.,  0., -1.,  0., -1.],\n",
    "\n",
    "       [ 0.,  0.,  5., -1.,  0., -1., -1., -1., -1.,  0.,  0.,  0.],\n",
    "\n",
    "       [ 0.,  0., -1.,  4., -1., -1.,  0.,  0., -1.,  0.,  0.,  0.],\n",
    "\n",
    "       [ 0.,  0.,  0., -1.,  3., -1.,  0.,  0., -1.,  0.,  0.,  0.],\n",
    "\n",
    "       [ 0., -1., -1., -1., -1.,  7.,  0., -1., -1., -1.,  0.,  0.],\n",
    "\n",
    "       [ 0.,  0., -1.,  0.,  0.,  0.,  3.,  0., -1., -1.,  0.,  0.],\n",
    "\n",
    "       [ 0., -1., -1.,  0.,  0., -1.,  0.,  3.,  0.,  0.,  0.,  0.],\n",
    "\n",
    "       [ 0.,  0., -1., -1., -1., -1., -1.,  0.,  7., -1., -1.,  0.],\n",
    "\n",
    "       [ 0., -1.,  0.,  0.,  0., -1., -1.,  0., -1.,  6., -1., -1.],\n",
    "\n",
    "       [ 0.,  0.,  0.,  0.,  0.,  0.,  0.,  0., -1., -1.,  2.,  0.],\n",
    "\n",
    "       [ 0., -1.,  0.,  0.,  0.,  0.,  0.,  0.,  0., -1.,  0.,  2.]])"
   ]
  },
  {
   "cell_type": "code",
   "execution_count": 4,
   "metadata": {},
   "outputs": [],
   "source": [
    "\n",
    "n = Q.shape[0]"
   ]
  },
  {
   "cell_type": "code",
   "execution_count": 7,
   "metadata": {},
   "outputs": [],
   "source": [
    "import scipy as sp"
   ]
  },
  {
   "cell_type": "code",
   "execution_count": 8,
   "metadata": {},
   "outputs": [],
   "source": [
    "Q_jitter = Q + sp.sparse.diags(np.ones(n)) * max(Q.diagonal()) * np.sqrt(\n",
    "\n",
    "    np.finfo(np.float64).eps\n",
    "\n",
    ")"
   ]
  },
  {
   "cell_type": "code",
   "execution_count": 9,
   "metadata": {},
   "outputs": [],
   "source": [
    "# inverse of precision (Q) is cov\n",
    "\n",
    "Q_perturbed = sp.sparse.csc_array(Q_jitter)\n",
    "\n",
    "b = sp.sparse.identity(n, format='csc')\n",
    "\n",
    "sigma = spsolve(Q_perturbed, b)"
   ]
  },
  {
   "cell_type": "code",
   "execution_count": 10,
   "metadata": {},
   "outputs": [],
   "source": [
    "# V \\in Null(Q)\n",
    "\n",
    "V = np.ones(n)  # from pg. 6\n",
    "\n",
    "W = sigma @ V.T  # \\Sigma * B in 3.17\n",
    "\n",
    "Q_inv = sigma - np.outer(W * solve(V @ W, np.ones(1)), W.T)"
   ]
  },
  {
   "cell_type": "code",
   "execution_count": 11,
   "metadata": {},
   "outputs": [
    {
     "name": "stdout",
     "output_type": "stream",
     "text": [
      "0.30022259359203607\n"
     ]
    }
   ],
   "source": [
    "# grabbing diag of cov gives var and\n",
    "\n",
    "# arithmetic mean in log-space becomes geometric mean after exp\n",
    "\n",
    "scaling = np.exp(np.sum(np.log(np.diag(Q_inv))) / n)\n",
    "\n",
    "print(scaling)"
   ]
  },
  {
   "cell_type": "code",
   "execution_count": null,
   "metadata": {},
   "outputs": [],
   "source": []
  },
  {
   "cell_type": "code",
   "execution_count": null,
   "metadata": {},
   "outputs": [],
   "source": []
  },
  {
   "cell_type": "code",
   "execution_count": null,
   "metadata": {},
   "outputs": [],
   "source": []
  },
  {
   "cell_type": "code",
   "execution_count": null,
   "metadata": {},
   "outputs": [],
   "source": []
  }
 ],
 "metadata": {
  "kernelspec": {
   "display_name": "TDA",
   "language": "python",
   "name": "python3"
  },
  "language_info": {
   "codemirror_mode": {
    "name": "ipython",
    "version": 3
   },
   "file_extension": ".py",
   "mimetype": "text/x-python",
   "name": "python",
   "nbconvert_exporter": "python",
   "pygments_lexer": "ipython3",
   "version": "3.11.4"
  }
 },
 "nbformat": 4,
 "nbformat_minor": 2
}
