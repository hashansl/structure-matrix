{
 "cells": [
  {
   "cell_type": "markdown",
   "metadata": {},
   "source": [
    "#### Get the marginal varianve matrix using the equation in the paper"
   ]
  },
  {
   "cell_type": "code",
   "execution_count": 17,
   "metadata": {},
   "outputs": [],
   "source": [
    "import pickle\n",
    "import numpy as np\n",
    "from scipy.linalg import null_space"
   ]
  },
  {
   "cell_type": "code",
   "execution_count": 18,
   "metadata": {},
   "outputs": [
    {
     "name": "stdout",
     "output_type": "stream",
     "text": [
      "Loaded matrix:\n",
      "[[ 3 -1 -1  0  0 -1  0  0  0  0  0  0]\n",
      " [-1  4 -1 -1  0  0  0  0  0  0  0 -1]\n",
      " [-1 -1  4 -1  0  0  0 -1  0  0  0  0]\n",
      " [ 0 -1 -1  4  0  0  0 -1  0  0  0 -1]\n",
      " [ 0  0  0  0  2  0  0  0  0  0 -1 -1]\n",
      " [-1  0  0  0  0  1  0  0  0  0  0  0]\n",
      " [ 0  0  0  0  0  0  4 -1 -1 -1 -1  0]\n",
      " [ 0  0 -1 -1  0  0 -1  6 -1  0 -1 -1]\n",
      " [ 0  0  0  0  0  0 -1 -1  3 -1  0  0]\n",
      " [ 0  0  0  0  0  0 -1  0 -1  2  0  0]\n",
      " [ 0  0  0  0 -1  0 -1 -1  0  0  4 -1]\n",
      " [ 0 -1  0 -1 -1  0  0 -1  0  0 -1  5]]\n"
     ]
    }
   ],
   "source": [
    "\n",
    "# Load matrix from file\n",
    "with open('matrix_arnsberg.pkl', 'rb') as f:\n",
    "    Q = pickle.load(f)\n",
    "\n",
    "print(\"Loaded matrix:\")\n",
    "print(Q)"
   ]
  },
  {
   "cell_type": "code",
   "execution_count": 19,
   "metadata": {},
   "outputs": [
    {
     "data": {
      "text/plain": [
       "-8.130015260572453e-12"
      ]
     },
     "execution_count": 19,
     "metadata": {},
     "output_type": "execute_result"
    }
   ],
   "source": [
    "# get the determinant of the matrix\n",
    "det = np.linalg.det(Q)\n",
    "det"
   ]
  },
  {
   "cell_type": "markdown",
   "metadata": {},
   "source": [
    "##### Null space of matrix Q"
   ]
  },
  {
   "cell_type": "code",
   "execution_count": 20,
   "metadata": {},
   "outputs": [
    {
     "data": {
      "text/plain": [
       "array([[0.28867513],\n",
       "       [0.28867513],\n",
       "       [0.28867513],\n",
       "       [0.28867513],\n",
       "       [0.28867513],\n",
       "       [0.28867513],\n",
       "       [0.28867513],\n",
       "       [0.28867513],\n",
       "       [0.28867513],\n",
       "       [0.28867513],\n",
       "       [0.28867513],\n",
       "       [0.28867513]])"
      ]
     },
     "execution_count": 20,
     "metadata": {},
     "output_type": "execute_result"
    }
   ],
   "source": [
    "# Compute the Null Space V of Q\n",
    "V = null_space(Q)\n",
    "V"
   ]
  },
  {
   "cell_type": "code",
   "execution_count": 21,
   "metadata": {},
   "outputs": [
    {
     "data": {
      "text/plain": [
       "array([[-5.55111512e-17],\n",
       "       [ 4.44089210e-16],\n",
       "       [ 5.55111512e-17],\n",
       "       [ 2.77555756e-16],\n",
       "       [ 4.99600361e-16],\n",
       "       [-1.66533454e-16],\n",
       "       [ 0.00000000e+00],\n",
       "       [-7.21644966e-16],\n",
       "       [ 1.66533454e-16],\n",
       "       [-3.33066907e-16],\n",
       "       [-6.66133815e-16],\n",
       "       [ 2.22044605e-16]])"
      ]
     },
     "execution_count": 21,
     "metadata": {},
     "output_type": "execute_result"
    }
   ],
   "source": [
    "Q.dot(V)"
   ]
  },
  {
   "cell_type": "code",
   "execution_count": 22,
   "metadata": {},
   "outputs": [],
   "source": [
    "b = null_space(V.transpose())"
   ]
  },
  {
   "cell_type": "code",
   "execution_count": 23,
   "metadata": {},
   "outputs": [],
   "source": [
    "# find covariance of matrix b\n",
    "cov_b = np.cov(b)"
   ]
  },
  {
   "cell_type": "markdown",
   "metadata": {},
   "source": [
    "### Find the Cov(b| V^T b=0)"
   ]
  },
  {
   "cell_type": "code",
   "execution_count": 24,
   "metadata": {},
   "outputs": [],
   "source": [
    "A = cov_b.dot(V)"
   ]
  },
  {
   "cell_type": "code",
   "execution_count": 25,
   "metadata": {},
   "outputs": [],
   "source": [
    "# inverse of A\n",
    "B = np.linalg.inv(V.transpose().dot(cov_b).dot(V))"
   ]
  },
  {
   "cell_type": "code",
   "execution_count": 26,
   "metadata": {},
   "outputs": [],
   "source": [
    "C = V.transpose().dot(cov_b)"
   ]
  },
  {
   "cell_type": "code",
   "execution_count": 27,
   "metadata": {},
   "outputs": [],
   "source": [
    "equation = cov_b - A.dot(B).dot(C)"
   ]
  },
  {
   "cell_type": "code",
   "execution_count": 28,
   "metadata": {},
   "outputs": [
    {
     "name": "stdout",
     "output_type": "stream",
     "text": [
      "Marginal Variances: [4.56060211e-32 9.09090909e-02 9.09090909e-02 9.09090909e-02\n",
      " 9.09090909e-02 9.09090909e-02 9.09090909e-02 9.09090909e-02\n",
      " 9.09090909e-02 9.09090909e-02 9.09090909e-02 9.09090909e-02]\n"
     ]
    }
   ],
   "source": [
    "# Extract Marginal Variances (diagonal elements of the variance-covariance matrix)\n",
    "marginal_variances = np.diag(equation)\n",
    "\n",
    "print(\"Marginal Variances:\", marginal_variances)"
   ]
  },
  {
   "cell_type": "code",
   "execution_count": 29,
   "metadata": {},
   "outputs": [
    {
     "name": "stdout",
     "output_type": "stream",
     "text": [
      "Marginal Variances:\n",
      "0.000000000000\n",
      "0.090909090909\n",
      "0.090909090909\n",
      "0.090909090909\n",
      "0.090909090909\n",
      "0.090909090909\n",
      "0.090909090909\n",
      "0.090909090909\n",
      "0.090909090909\n",
      "0.090909090909\n",
      "0.090909090909\n",
      "0.090909090909\n"
     ]
    }
   ],
   "source": [
    "# Format and print the marginal variances\n",
    "print(\"Marginal Variances:\")\n",
    "for variance in marginal_variances:\n",
    "    print(\"{:.12f}\".format(variance))"
   ]
  },
  {
   "cell_type": "code",
   "execution_count": 30,
   "metadata": {},
   "outputs": [
    {
     "data": {
      "text/plain": [
       "0.00027142002567738527"
      ]
     },
     "execution_count": 30,
     "metadata": {},
     "output_type": "execute_result"
    }
   ],
   "source": [
    "geometric_mean = np.exp(np.mean(np.log(marginal_variances)))\n",
    "geometric_mean"
   ]
  },
  {
   "cell_type": "code",
   "execution_count": null,
   "metadata": {},
   "outputs": [],
   "source": []
  },
  {
   "cell_type": "code",
   "execution_count": null,
   "metadata": {},
   "outputs": [],
   "source": []
  }
 ],
 "metadata": {
  "kernelspec": {
   "display_name": "TDA",
   "language": "python",
   "name": "python3"
  },
  "language_info": {
   "codemirror_mode": {
    "name": "ipython",
    "version": 3
   },
   "file_extension": ".py",
   "mimetype": "text/x-python",
   "name": "python",
   "nbconvert_exporter": "python",
   "pygments_lexer": "ipython3",
   "version": "3.11.4"
  }
 },
 "nbformat": 4,
 "nbformat_minor": 2
}
