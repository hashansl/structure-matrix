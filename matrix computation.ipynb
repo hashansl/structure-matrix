{
 "cells": [
  {
   "cell_type": "code",
   "execution_count": null,
   "metadata": {},
   "outputs": [],
   "source": []
  },
  {
   "cell_type": "markdown",
   "metadata": {},
   "source": [
    "#### Null space - For extreamly small values"
   ]
  },
  {
   "cell_type": "code",
   "execution_count": null,
   "metadata": {},
   "outputs": [],
   "source": []
  },
  {
   "cell_type": "code",
   "execution_count": 25,
   "metadata": {},
   "outputs": [],
   "source": [
    "import pickle\n",
    "import numpy as np\n"
   ]
  },
  {
   "cell_type": "code",
   "execution_count": 26,
   "metadata": {},
   "outputs": [
    {
     "name": "stdout",
     "output_type": "stream",
     "text": [
      "Loaded matrix:\n",
      "[[ 3 -1 -1  0  0 -1  0  0  0  0  0  0]\n",
      " [-1  4 -1 -1  0  0  0  0  0  0  0 -1]\n",
      " [-1 -1  4 -1  0  0  0 -1  0  0  0  0]\n",
      " [ 0 -1 -1  4  0  0  0 -1  0  0  0 -1]\n",
      " [ 0  0  0  0  2  0  0  0  0  0 -1 -1]\n",
      " [-1  0  0  0  0  1  0  0  0  0  0  0]\n",
      " [ 0  0  0  0  0  0  4 -1 -1 -1 -1  0]\n",
      " [ 0  0 -1 -1  0  0 -1  6 -1  0 -1 -1]\n",
      " [ 0  0  0  0  0  0 -1 -1  3 -1  0  0]\n",
      " [ 0  0  0  0  0  0 -1  0 -1  2  0  0]\n",
      " [ 0  0  0  0 -1  0 -1 -1  0  0  4 -1]\n",
      " [ 0 -1  0 -1 -1  0  0 -1  0  0 -1  5]]\n"
     ]
    }
   ],
   "source": [
    "\n",
    "# Load matrix from file\n",
    "with open('matrix.pkl', 'rb') as f:\n",
    "    Q = pickle.load(f)\n",
    "\n",
    "print(\"Loaded matrix:\")\n",
    "print(Q)"
   ]
  },
  {
   "cell_type": "code",
   "execution_count": 27,
   "metadata": {},
   "outputs": [
    {
     "name": "stdout",
     "output_type": "stream",
     "text": [
      "<class 'numpy.ndarray'>\n",
      "<class 'numpy.int64'>\n"
     ]
    }
   ],
   "source": [
    "print(type(Q))\n",
    "print(type(Q[0,0]))"
   ]
  },
  {
   "cell_type": "code",
   "execution_count": 28,
   "metadata": {},
   "outputs": [
    {
     "data": {
      "text/plain": [
       "-8.130015260572453e-12"
      ]
     },
     "execution_count": 28,
     "metadata": {},
     "output_type": "execute_result"
    }
   ],
   "source": [
    "# get the determinant of the matrix\n",
    "det = np.linalg.det(Q)\n",
    "det"
   ]
  },
  {
   "cell_type": "markdown",
   "metadata": {},
   "source": [
    "##### Precision matrix regularized"
   ]
  },
  {
   "cell_type": "code",
   "execution_count": 29,
   "metadata": {},
   "outputs": [],
   "source": [
    "# Make the Precision Matrix Regular (if necessary)\n",
    "epsilon = 1e-6  # small term to add to the diagonal\n",
    "Q_regularized = Q + epsilon * np.eye(Q.shape[0])"
   ]
  },
  {
   "cell_type": "code",
   "execution_count": 30,
   "metadata": {},
   "outputs": [
    {
     "data": {
      "text/plain": [
       "array([[ 3.000001, -1.      , -1.      ,  0.      ,  0.      , -1.      ,\n",
       "         0.      ,  0.      ,  0.      ,  0.      ,  0.      ,  0.      ],\n",
       "       [-1.      ,  4.000001, -1.      , -1.      ,  0.      ,  0.      ,\n",
       "         0.      ,  0.      ,  0.      ,  0.      ,  0.      , -1.      ],\n",
       "       [-1.      , -1.      ,  4.000001, -1.      ,  0.      ,  0.      ,\n",
       "         0.      , -1.      ,  0.      ,  0.      ,  0.      ,  0.      ],\n",
       "       [ 0.      , -1.      , -1.      ,  4.000001,  0.      ,  0.      ,\n",
       "         0.      , -1.      ,  0.      ,  0.      ,  0.      , -1.      ],\n",
       "       [ 0.      ,  0.      ,  0.      ,  0.      ,  2.000001,  0.      ,\n",
       "         0.      ,  0.      ,  0.      ,  0.      , -1.      , -1.      ],\n",
       "       [-1.      ,  0.      ,  0.      ,  0.      ,  0.      ,  1.000001,\n",
       "         0.      ,  0.      ,  0.      ,  0.      ,  0.      ,  0.      ],\n",
       "       [ 0.      ,  0.      ,  0.      ,  0.      ,  0.      ,  0.      ,\n",
       "         4.000001, -1.      , -1.      , -1.      , -1.      ,  0.      ],\n",
       "       [ 0.      ,  0.      , -1.      , -1.      ,  0.      ,  0.      ,\n",
       "        -1.      ,  6.000001, -1.      ,  0.      , -1.      , -1.      ],\n",
       "       [ 0.      ,  0.      ,  0.      ,  0.      ,  0.      ,  0.      ,\n",
       "        -1.      , -1.      ,  3.000001, -1.      ,  0.      ,  0.      ],\n",
       "       [ 0.      ,  0.      ,  0.      ,  0.      ,  0.      ,  0.      ,\n",
       "        -1.      ,  0.      , -1.      ,  2.000001,  0.      ,  0.      ],\n",
       "       [ 0.      ,  0.      ,  0.      ,  0.      , -1.      ,  0.      ,\n",
       "        -1.      , -1.      ,  0.      ,  0.      ,  4.000001, -1.      ],\n",
       "       [ 0.      , -1.      ,  0.      , -1.      , -1.      ,  0.      ,\n",
       "         0.      , -1.      ,  0.      ,  0.      , -1.      ,  5.000001]])"
      ]
     },
     "execution_count": 30,
     "metadata": {},
     "output_type": "execute_result"
    }
   ],
   "source": [
    "Q_regularized"
   ]
  },
  {
   "cell_type": "code",
   "execution_count": 31,
   "metadata": {},
   "outputs": [
    {
     "data": {
      "text/plain": [
       "0.15616887967188134"
      ]
     },
     "execution_count": 31,
     "metadata": {},
     "output_type": "execute_result"
    }
   ],
   "source": [
    "# get the determinant of the matrix\n",
    "det = np.linalg.det(Q_regularized)\n",
    "det"
   ]
  },
  {
   "cell_type": "code",
   "execution_count": null,
   "metadata": {},
   "outputs": [],
   "source": []
  },
  {
   "cell_type": "code",
   "execution_count": null,
   "metadata": {},
   "outputs": [],
   "source": []
  }
 ],
 "metadata": {
  "kernelspec": {
   "display_name": "TDA",
   "language": "python",
   "name": "python3"
  },
  "language_info": {
   "codemirror_mode": {
    "name": "ipython",
    "version": 3
   },
   "file_extension": ".py",
   "mimetype": "text/x-python",
   "name": "python",
   "nbconvert_exporter": "python",
   "pygments_lexer": "ipython3",
   "version": "3.11.4"
  }
 },
 "nbformat": 4,
 "nbformat_minor": 2
}
