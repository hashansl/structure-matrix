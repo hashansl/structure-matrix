{
 "cells": [
  {
   "cell_type": "code",
   "execution_count": null,
   "metadata": {},
   "outputs": [],
   "source": []
  },
  {
   "cell_type": "markdown",
   "metadata": {},
   "source": [
    "#### Null space - For extreamly small values"
   ]
  },
  {
   "cell_type": "code",
   "execution_count": null,
   "metadata": {},
   "outputs": [],
   "source": []
  },
  {
   "cell_type": "code",
   "execution_count": 1,
   "metadata": {},
   "outputs": [],
   "source": [
    "import pickle"
   ]
  },
  {
   "cell_type": "code",
   "execution_count": 2,
   "metadata": {},
   "outputs": [
    {
     "name": "stdout",
     "output_type": "stream",
     "text": [
      "Loaded matrix:\n",
      "[[ 3 -1 -1  0  0 -1  0  0  0  0  0  0]\n",
      " [-1  4 -1 -1  0  0  0  0  0  0  0 -1]\n",
      " [-1 -1  4 -1  0  0  0 -1  0  0  0  0]\n",
      " [ 0 -1 -1  4  0  0  0 -1  0  0  0 -1]\n",
      " [ 0  0  0  0  2  0  0  0  0  0 -1 -1]\n",
      " [-1  0  0  0  0  1  0  0  0  0  0  0]\n",
      " [ 0  0  0  0  0  0  4 -1 -1 -1 -1  0]\n",
      " [ 0  0 -1 -1  0  0 -1  6 -1  0 -1 -1]\n",
      " [ 0  0  0  0  0  0 -1 -1  3 -1  0  0]\n",
      " [ 0  0  0  0  0  0 -1  0 -1  2  0  0]\n",
      " [ 0  0  0  0 -1  0 -1 -1  0  0  4 -1]\n",
      " [ 0 -1  0 -1 -1  0  0 -1  0  0 -1  5]]\n"
     ]
    }
   ],
   "source": [
    "\n",
    "# Load matrix from file\n",
    "with open('matrix.pkl', 'rb') as f:\n",
    "    Q = pickle.load(f)\n",
    "\n",
    "print(\"Loaded matrix:\")\n",
    "print(Q)"
   ]
  },
  {
   "cell_type": "code",
   "execution_count": null,
   "metadata": {},
   "outputs": [],
   "source": []
  },
  {
   "cell_type": "code",
   "execution_count": null,
   "metadata": {},
   "outputs": [],
   "source": []
  },
  {
   "cell_type": "code",
   "execution_count": null,
   "metadata": {},
   "outputs": [],
   "source": []
  }
 ],
 "metadata": {
  "kernelspec": {
   "display_name": "TDA",
   "language": "python",
   "name": "python3"
  },
  "language_info": {
   "codemirror_mode": {
    "name": "ipython",
    "version": 3
   },
   "file_extension": ".py",
   "mimetype": "text/x-python",
   "name": "python",
   "nbconvert_exporter": "python",
   "pygments_lexer": "ipython3",
   "version": "3.11.4"
  }
 },
 "nbformat": 4,
 "nbformat_minor": 2
}
