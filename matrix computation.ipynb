{
 "cells": [
  {
   "cell_type": "markdown",
   "metadata": {},
   "source": [
    "#### Null space - For extreamly small values"
   ]
  },
  {
   "cell_type": "code",
   "execution_count": 8,
   "metadata": {},
   "outputs": [],
   "source": [
    "import pickle\n",
    "import numpy as np\n",
    "from scipy.linalg import null_space"
   ]
  },
  {
   "cell_type": "code",
   "execution_count": 2,
   "metadata": {},
   "outputs": [
    {
     "name": "stdout",
     "output_type": "stream",
     "text": [
      "Loaded matrix:\n",
      "[[ 1 -1  0  0  0  0  0  0  0  0  0  0]\n",
      " [-1  5  0  0  0 -1  0 -1  0 -1  0 -1]\n",
      " [ 0  0  5 -1  0 -1 -1 -1 -1  0  0  0]\n",
      " [ 0  0 -1  4 -1 -1  0  0 -1  0  0  0]\n",
      " [ 0  0  0 -1  3 -1  0  0 -1  0  0  0]\n",
      " [ 0 -1 -1 -1 -1  7  0 -1 -1 -1  0  0]\n",
      " [ 0  0 -1  0  0  0  3  0 -1 -1  0  0]\n",
      " [ 0 -1 -1  0  0 -1  0  3  0  0  0  0]\n",
      " [ 0  0 -1 -1 -1 -1 -1  0  7 -1 -1  0]\n",
      " [ 0 -1  0  0  0 -1 -1  0 -1  6 -1 -1]\n",
      " [ 0  0  0  0  0  0  0  0 -1 -1  2  0]\n",
      " [ 0 -1  0  0  0  0  0  0  0 -1  0  2]]\n"
     ]
    }
   ],
   "source": [
    "\n",
    "# Load matrix from file\n",
    "with open('matrix_arnsberg.pkl', 'rb') as f:\n",
    "    Q = pickle.load(f)\n",
    "\n",
    "print(\"Loaded matrix:\")\n",
    "print(Q)"
   ]
  },
  {
   "cell_type": "code",
   "execution_count": 26,
   "metadata": {},
   "outputs": [
    {
     "name": "stdout",
     "output_type": "stream",
     "text": [
      "(12, 12)\n",
      "<class 'numpy.ndarray'>\n",
      "<class 'numpy.int64'>\n"
     ]
    }
   ],
   "source": [
    "print(Q.shape)\n",
    "print(type(Q))\n",
    "print(type(Q[0,0]))"
   ]
  },
  {
   "cell_type": "code",
   "execution_count": 4,
   "metadata": {},
   "outputs": [
    {
     "data": {
      "text/plain": [
       "6.559690316036448e-11"
      ]
     },
     "execution_count": 4,
     "metadata": {},
     "output_type": "execute_result"
    }
   ],
   "source": [
    "# get the determinant of the matrix\n",
    "det = np.linalg.det(Q)\n",
    "det"
   ]
  },
  {
   "cell_type": "markdown",
   "metadata": {},
   "source": [
    "##### Precision matrix regularized"
   ]
  },
  {
   "cell_type": "code",
   "execution_count": 21,
   "metadata": {},
   "outputs": [],
   "source": [
    "# Make the Precision Matrix Regular (if necessary)\n",
    "epsilon = 1e-1  # small term to add to the diagonal\n",
    "Q_regularized = Q + epsilon * np.eye(Q.shape[0])"
   ]
  },
  {
   "cell_type": "code",
   "execution_count": 22,
   "metadata": {},
   "outputs": [
    {
     "data": {
      "text/plain": [
       "array([[ 1.1, -1. ,  0. ,  0. ,  0. ,  0. ,  0. ,  0. ,  0. ,  0. ,  0. ,\n",
       "         0. ],\n",
       "       [-1. ,  5.1,  0. ,  0. ,  0. , -1. ,  0. , -1. ,  0. , -1. ,  0. ,\n",
       "        -1. ],\n",
       "       [ 0. ,  0. ,  5.1, -1. ,  0. , -1. , -1. , -1. , -1. ,  0. ,  0. ,\n",
       "         0. ],\n",
       "       [ 0. ,  0. , -1. ,  4.1, -1. , -1. ,  0. ,  0. , -1. ,  0. ,  0. ,\n",
       "         0. ],\n",
       "       [ 0. ,  0. ,  0. , -1. ,  3.1, -1. ,  0. ,  0. , -1. ,  0. ,  0. ,\n",
       "         0. ],\n",
       "       [ 0. , -1. , -1. , -1. , -1. ,  7.1,  0. , -1. , -1. , -1. ,  0. ,\n",
       "         0. ],\n",
       "       [ 0. ,  0. , -1. ,  0. ,  0. ,  0. ,  3.1,  0. , -1. , -1. ,  0. ,\n",
       "         0. ],\n",
       "       [ 0. , -1. , -1. ,  0. ,  0. , -1. ,  0. ,  3.1,  0. ,  0. ,  0. ,\n",
       "         0. ],\n",
       "       [ 0. ,  0. , -1. , -1. , -1. , -1. , -1. ,  0. ,  7.1, -1. , -1. ,\n",
       "         0. ],\n",
       "       [ 0. , -1. ,  0. ,  0. ,  0. , -1. , -1. ,  0. , -1. ,  6.1, -1. ,\n",
       "        -1. ],\n",
       "       [ 0. ,  0. ,  0. ,  0. ,  0. ,  0. ,  0. ,  0. , -1. , -1. ,  2.1,\n",
       "         0. ],\n",
       "       [ 0. , -1. ,  0. ,  0. ,  0. ,  0. ,  0. ,  0. ,  0. , -1. ,  0. ,\n",
       "         2.1]])"
      ]
     },
     "execution_count": 22,
     "metadata": {},
     "output_type": "execute_result"
    }
   ],
   "source": [
    "Q_regularized"
   ]
  },
  {
   "cell_type": "code",
   "execution_count": 23,
   "metadata": {},
   "outputs": [
    {
     "data": {
      "text/plain": [
       "127291.43515456119"
      ]
     },
     "execution_count": 23,
     "metadata": {},
     "output_type": "execute_result"
    }
   ],
   "source": [
    "# get the determinant of the matrix\n",
    "det = np.linalg.det(Q_regularized)\n",
    "det"
   ]
  },
  {
   "cell_type": "code",
   "execution_count": 24,
   "metadata": {},
   "outputs": [
    {
     "data": {
      "text/plain": [
       "array([], shape=(12, 0), dtype=float64)"
      ]
     },
     "execution_count": 24,
     "metadata": {},
     "output_type": "execute_result"
    }
   ],
   "source": [
    "# Compute the Null Space V of Q\n",
    "V = null_space(Q_regularized)\n",
    "V"
   ]
  },
  {
   "cell_type": "code",
   "execution_count": 31,
   "metadata": {},
   "outputs": [
    {
     "data": {
      "text/plain": [
       "array([[-0.28867513],\n",
       "       [-0.28867513],\n",
       "       [-0.28867513],\n",
       "       [-0.28867513],\n",
       "       [-0.28867513],\n",
       "       [-0.28867513],\n",
       "       [-0.28867513],\n",
       "       [-0.28867513],\n",
       "       [-0.28867513],\n",
       "       [-0.28867513],\n",
       "       [-0.28867513],\n",
       "       [-0.28867513]])"
      ]
     },
     "execution_count": 31,
     "metadata": {},
     "output_type": "execute_result"
    }
   ],
   "source": [
    "# Compute the Null Space V of Q\n",
    "V = null_space(Q)\n",
    "V"
   ]
  },
  {
   "cell_type": "code",
   "execution_count": 11,
   "metadata": {},
   "outputs": [
    {
     "data": {
      "text/plain": [
       "array([[-2.77555756e-16],\n",
       "       [ 1.11022302e-16],\n",
       "       [ 1.83186799e-15],\n",
       "       [-6.10622664e-16],\n",
       "       [ 9.43689571e-16],\n",
       "       [-9.99200722e-16],\n",
       "       [-4.44089210e-16],\n",
       "       [ 5.55111512e-17],\n",
       "       [-7.77156117e-16],\n",
       "       [ 7.77156117e-16],\n",
       "       [ 1.11022302e-16],\n",
       "       [-4.44089210e-16]])"
      ]
     },
     "execution_count": 11,
     "metadata": {},
     "output_type": "execute_result"
    }
   ],
   "source": [
    "Q.dot(V)"
   ]
  },
  {
   "cell_type": "code",
   "execution_count": 33,
   "metadata": {},
   "outputs": [
    {
     "data": {
      "text/plain": [
       "array([[-0.28867513, -0.28867513, -0.28867513, -0.28867513, -0.28867513,\n",
       "        -0.28867513, -0.28867513, -0.28867513, -0.28867513, -0.28867513,\n",
       "        -0.28867513],\n",
       "       [ 0.9353341 , -0.0646659 , -0.0646659 , -0.0646659 , -0.0646659 ,\n",
       "        -0.0646659 , -0.0646659 , -0.0646659 , -0.0646659 , -0.0646659 ,\n",
       "        -0.0646659 ],\n",
       "       [-0.0646659 ,  0.9353341 , -0.0646659 , -0.0646659 , -0.0646659 ,\n",
       "        -0.0646659 , -0.0646659 , -0.0646659 , -0.0646659 , -0.0646659 ,\n",
       "        -0.0646659 ],\n",
       "       [-0.0646659 , -0.0646659 ,  0.9353341 , -0.0646659 , -0.0646659 ,\n",
       "        -0.0646659 , -0.0646659 , -0.0646659 , -0.0646659 , -0.0646659 ,\n",
       "        -0.0646659 ],\n",
       "       [-0.0646659 , -0.0646659 , -0.0646659 ,  0.9353341 , -0.0646659 ,\n",
       "        -0.0646659 , -0.0646659 , -0.0646659 , -0.0646659 , -0.0646659 ,\n",
       "        -0.0646659 ],\n",
       "       [-0.0646659 , -0.0646659 , -0.0646659 , -0.0646659 ,  0.9353341 ,\n",
       "        -0.0646659 , -0.0646659 , -0.0646659 , -0.0646659 , -0.0646659 ,\n",
       "        -0.0646659 ],\n",
       "       [-0.0646659 , -0.0646659 , -0.0646659 , -0.0646659 , -0.0646659 ,\n",
       "         0.9353341 , -0.0646659 , -0.0646659 , -0.0646659 , -0.0646659 ,\n",
       "        -0.0646659 ],\n",
       "       [-0.0646659 , -0.0646659 , -0.0646659 , -0.0646659 , -0.0646659 ,\n",
       "        -0.0646659 ,  0.9353341 , -0.0646659 , -0.0646659 , -0.0646659 ,\n",
       "        -0.0646659 ],\n",
       "       [-0.0646659 , -0.0646659 , -0.0646659 , -0.0646659 , -0.0646659 ,\n",
       "        -0.0646659 , -0.0646659 ,  0.9353341 , -0.0646659 , -0.0646659 ,\n",
       "        -0.0646659 ],\n",
       "       [-0.0646659 , -0.0646659 , -0.0646659 , -0.0646659 , -0.0646659 ,\n",
       "        -0.0646659 , -0.0646659 , -0.0646659 ,  0.9353341 , -0.0646659 ,\n",
       "        -0.0646659 ],\n",
       "       [-0.0646659 , -0.0646659 , -0.0646659 , -0.0646659 , -0.0646659 ,\n",
       "        -0.0646659 , -0.0646659 , -0.0646659 , -0.0646659 ,  0.9353341 ,\n",
       "        -0.0646659 ],\n",
       "       [-0.0646659 , -0.0646659 , -0.0646659 , -0.0646659 , -0.0646659 ,\n",
       "        -0.0646659 , -0.0646659 , -0.0646659 , -0.0646659 , -0.0646659 ,\n",
       "         0.9353341 ]])"
      ]
     },
     "execution_count": 33,
     "metadata": {},
     "output_type": "execute_result"
    }
   ],
   "source": [
    "null_space(V.transpose())"
   ]
  },
  {
   "cell_type": "code",
   "execution_count": 34,
   "metadata": {},
   "outputs": [],
   "source": [
    "b = null_space(V.transpose())"
   ]
  },
  {
   "cell_type": "code",
   "execution_count": 36,
   "metadata": {},
   "outputs": [],
   "source": [
    "# find covariance of matrix b\n",
    "cov_b = np.cov(b)"
   ]
  },
  {
   "cell_type": "code",
   "execution_count": 38,
   "metadata": {},
   "outputs": [
    {
     "data": {
      "text/plain": [
       "(12, 12)"
      ]
     },
     "execution_count": 38,
     "metadata": {},
     "output_type": "execute_result"
    }
   ],
   "source": [
    "cov_b.shape"
   ]
  },
  {
   "cell_type": "code",
   "execution_count": 39,
   "metadata": {},
   "outputs": [
    {
     "data": {
      "text/plain": [
       "array([[ 2.46519033e-32, -1.00929366e-17,  2.87648693e-17,\n",
       "        -4.54182146e-18,  2.32137542e-17, -1.00929366e-17,\n",
       "        -4.54182146e-18, -4.54182146e-18, -4.54182146e-18,\n",
       "         6.56040878e-18,  6.56040878e-18, -2.67462820e-17],\n",
       "       [-1.00929366e-17,  9.09090909e-02, -9.09090909e-03,\n",
       "        -9.09090909e-03, -9.09090909e-03, -9.09090909e-03,\n",
       "        -9.09090909e-03, -9.09090909e-03, -9.09090909e-03,\n",
       "        -9.09090909e-03, -9.09090909e-03, -9.09090909e-03],\n",
       "       [ 2.87648693e-17, -9.09090909e-03,  9.09090909e-02,\n",
       "        -9.09090909e-03, -9.09090909e-03, -9.09090909e-03,\n",
       "        -9.09090909e-03, -9.09090909e-03, -9.09090909e-03,\n",
       "        -9.09090909e-03, -9.09090909e-03, -9.09090909e-03],\n",
       "       [-4.54182146e-18, -9.09090909e-03, -9.09090909e-03,\n",
       "         9.09090909e-02, -9.09090909e-03, -9.09090909e-03,\n",
       "        -9.09090909e-03, -9.09090909e-03, -9.09090909e-03,\n",
       "        -9.09090909e-03, -9.09090909e-03, -9.09090909e-03],\n",
       "       [ 2.32137542e-17, -9.09090909e-03, -9.09090909e-03,\n",
       "        -9.09090909e-03,  9.09090909e-02, -9.09090909e-03,\n",
       "        -9.09090909e-03, -9.09090909e-03, -9.09090909e-03,\n",
       "        -9.09090909e-03, -9.09090909e-03, -9.09090909e-03],\n",
       "       [-1.00929366e-17, -9.09090909e-03, -9.09090909e-03,\n",
       "        -9.09090909e-03, -9.09090909e-03,  9.09090909e-02,\n",
       "        -9.09090909e-03, -9.09090909e-03, -9.09090909e-03,\n",
       "        -9.09090909e-03, -9.09090909e-03, -9.09090909e-03],\n",
       "       [-4.54182146e-18, -9.09090909e-03, -9.09090909e-03,\n",
       "        -9.09090909e-03, -9.09090909e-03, -9.09090909e-03,\n",
       "         9.09090909e-02, -9.09090909e-03, -9.09090909e-03,\n",
       "        -9.09090909e-03, -9.09090909e-03, -9.09090909e-03],\n",
       "       [-4.54182146e-18, -9.09090909e-03, -9.09090909e-03,\n",
       "        -9.09090909e-03, -9.09090909e-03, -9.09090909e-03,\n",
       "        -9.09090909e-03,  9.09090909e-02, -9.09090909e-03,\n",
       "        -9.09090909e-03, -9.09090909e-03, -9.09090909e-03],\n",
       "       [-4.54182146e-18, -9.09090909e-03, -9.09090909e-03,\n",
       "        -9.09090909e-03, -9.09090909e-03, -9.09090909e-03,\n",
       "        -9.09090909e-03, -9.09090909e-03,  9.09090909e-02,\n",
       "        -9.09090909e-03, -9.09090909e-03, -9.09090909e-03],\n",
       "       [ 6.56040878e-18, -9.09090909e-03, -9.09090909e-03,\n",
       "        -9.09090909e-03, -9.09090909e-03, -9.09090909e-03,\n",
       "        -9.09090909e-03, -9.09090909e-03, -9.09090909e-03,\n",
       "         9.09090909e-02, -9.09090909e-03, -9.09090909e-03],\n",
       "       [ 6.56040878e-18, -9.09090909e-03, -9.09090909e-03,\n",
       "        -9.09090909e-03, -9.09090909e-03, -9.09090909e-03,\n",
       "        -9.09090909e-03, -9.09090909e-03, -9.09090909e-03,\n",
       "        -9.09090909e-03,  9.09090909e-02, -9.09090909e-03],\n",
       "       [-2.67462820e-17, -9.09090909e-03, -9.09090909e-03,\n",
       "        -9.09090909e-03, -9.09090909e-03, -9.09090909e-03,\n",
       "        -9.09090909e-03, -9.09090909e-03, -9.09090909e-03,\n",
       "        -9.09090909e-03, -9.09090909e-03,  9.09090909e-02]])"
      ]
     },
     "execution_count": 39,
     "metadata": {},
     "output_type": "execute_result"
    }
   ],
   "source": [
    "cov_b"
   ]
  },
  {
   "cell_type": "code",
   "execution_count": null,
   "metadata": {},
   "outputs": [],
   "source": []
  },
  {
   "cell_type": "code",
   "execution_count": null,
   "metadata": {},
   "outputs": [],
   "source": []
  },
  {
   "cell_type": "code",
   "execution_count": null,
   "metadata": {},
   "outputs": [],
   "source": []
  },
  {
   "cell_type": "markdown",
   "metadata": {},
   "source": [
    "### Find the Cov(b| V^T b=0)"
   ]
  },
  {
   "cell_type": "code",
   "execution_count": 40,
   "metadata": {},
   "outputs": [],
   "source": [
    "A = cov_b.dot(V)"
   ]
  },
  {
   "cell_type": "code",
   "execution_count": 41,
   "metadata": {},
   "outputs": [],
   "source": [
    "# inverse of A\n",
    "B = np.linalg.inv(V.transpose().dot(cov_b).dot(V))"
   ]
  },
  {
   "cell_type": "code",
   "execution_count": 42,
   "metadata": {},
   "outputs": [],
   "source": [
    "C = V.transpose().dot(cov_b)"
   ]
  },
  {
   "cell_type": "code",
   "execution_count": 45,
   "metadata": {},
   "outputs": [],
   "source": [
    "equation = cov_b - A.dot(B).dot(C)"
   ]
  },
  {
   "cell_type": "code",
   "execution_count": 46,
   "metadata": {},
   "outputs": [],
   "source": [
    "cov_b_VTb = np.cov(equation)"
   ]
  },
  {
   "cell_type": "code",
   "execution_count": 49,
   "metadata": {},
   "outputs": [
    {
     "name": "stdout",
     "output_type": "stream",
     "text": [
      "Marginal Variances: [2.23089538e-34 8.26446281e-04 8.26446281e-04 8.26446281e-04\n",
      " 8.26446281e-04 8.26446281e-04 8.26446281e-04 8.26446281e-04\n",
      " 8.26446281e-04 8.26446281e-04 8.26446281e-04 8.26446281e-04]\n"
     ]
    }
   ],
   "source": [
    "# Extract Marginal Variances (diagonal elements of the variance-covariance matrix)\n",
    "marginal_variances = np.diag(cov_b_VTb)\n",
    "\n",
    "print(\"Marginal Variances:\", marginal_variances)"
   ]
  },
  {
   "cell_type": "code",
   "execution_count": 52,
   "metadata": {},
   "outputs": [
    {
     "name": "stdout",
     "output_type": "stream",
     "text": [
      "Marginal Variances:\n",
      "0.000000000000\n",
      "0.000826446281\n",
      "0.000826446281\n",
      "0.000826446281\n",
      "0.000826446281\n",
      "0.000826446281\n",
      "0.000826446281\n",
      "0.000826446281\n",
      "0.000826446281\n",
      "0.000826446281\n",
      "0.000826446281\n",
      "0.000826446281\n"
     ]
    }
   ],
   "source": [
    "# Format and print the marginal variances\n",
    "print(\"Marginal Variances:\")\n",
    "for variance in marginal_variances:\n",
    "    print(\"{:.12f}\".format(variance))"
   ]
  },
  {
   "cell_type": "code",
   "execution_count": 47,
   "metadata": {},
   "outputs": [
    {
     "data": {
      "text/plain": [
       "0.009090909090909085"
      ]
     },
     "execution_count": 47,
     "metadata": {},
     "output_type": "execute_result"
    }
   ],
   "source": [
    "# get the sum of the diagonal of the covariance matrix\n",
    "sum_diag = np.sum(np.diag(cov_b_VTb))\n",
    "sum_diag"
   ]
  },
  {
   "cell_type": "code",
   "execution_count": null,
   "metadata": {},
   "outputs": [],
   "source": []
  }
 ],
 "metadata": {
  "kernelspec": {
   "display_name": "TDA",
   "language": "python",
   "name": "python3"
  },
  "language_info": {
   "codemirror_mode": {
    "name": "ipython",
    "version": 3
   },
   "file_extension": ".py",
   "mimetype": "text/x-python",
   "name": "python",
   "nbconvert_exporter": "python",
   "pygments_lexer": "ipython3",
   "version": "3.11.4"
  }
 },
 "nbformat": 4,
 "nbformat_minor": 2
}
