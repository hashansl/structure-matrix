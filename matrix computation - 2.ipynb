{
 "cells": [
  {
   "cell_type": "markdown",
   "metadata": {},
   "source": [
    "#### Null space - For extreamly small values"
   ]
  },
  {
   "cell_type": "code",
   "execution_count": 2,
   "metadata": {},
   "outputs": [],
   "source": [
    "import pickle\n",
    "import numpy as np\n",
    "from scipy.linalg import null_space"
   ]
  },
  {
   "cell_type": "code",
   "execution_count": 3,
   "metadata": {},
   "outputs": [
    {
     "name": "stdout",
     "output_type": "stream",
     "text": [
      "Q matrix which we got from adjacencies:\n",
      "[[ 1 -1  0  0  0  0  0  0  0  0  0  0]\n",
      " [-1  5  0  0  0 -1  0 -1  0 -1  0 -1]\n",
      " [ 0  0  5 -1  0 -1 -1 -1 -1  0  0  0]\n",
      " [ 0  0 -1  4 -1 -1  0  0 -1  0  0  0]\n",
      " [ 0  0  0 -1  3 -1  0  0 -1  0  0  0]\n",
      " [ 0 -1 -1 -1 -1  7  0 -1 -1 -1  0  0]\n",
      " [ 0  0 -1  0  0  0  3  0 -1 -1  0  0]\n",
      " [ 0 -1 -1  0  0 -1  0  3  0  0  0  0]\n",
      " [ 0  0 -1 -1 -1 -1 -1  0  7 -1 -1  0]\n",
      " [ 0 -1  0  0  0 -1 -1  0 -1  6 -1 -1]\n",
      " [ 0  0  0  0  0  0  0  0 -1 -1  2  0]\n",
      " [ 0 -1  0  0  0  0  0  0  0 -1  0  2]]\n"
     ]
    }
   ],
   "source": [
    "\n",
    "# Load matrix from file\n",
    "with open('matrix_mittelfranken.pkl', 'rb') as f:\n",
    "    Q = pickle.load(f)\n",
    "\n",
    "print(\"Q matrix which we got from adjacencies:\")\n",
    "print(Q)"
   ]
  },
  {
   "cell_type": "code",
   "execution_count": 6,
   "metadata": {},
   "outputs": [
    {
     "name": "stdout",
     "output_type": "stream",
     "text": [
      "(12, 12)\n",
      "<class 'numpy.ndarray'>\n",
      "<class 'numpy.int64'>\n"
     ]
    }
   ],
   "source": [
    "print(Q.shape)\n",
    "print(type(Q))\n",
    "print(type(Q[0,0]))"
   ]
  },
  {
   "cell_type": "code",
   "execution_count": 7,
   "metadata": {},
   "outputs": [
    {
     "name": "stdout",
     "output_type": "stream",
     "text": [
      "The Rank of the Q Matrix:  12\n"
     ]
    }
   ],
   "source": [
    "print(\"The Rank of the Q Matrix: \", np.linalg.matrix_rank(Q))"
   ]
  },
  {
   "cell_type": "code",
   "execution_count": 8,
   "metadata": {},
   "outputs": [
    {
     "data": {
      "text/plain": [
       "751167.9999999993"
      ]
     },
     "execution_count": 8,
     "metadata": {},
     "output_type": "execute_result"
    }
   ],
   "source": [
    "# get the determinant of the matrix\n",
    "det = np.linalg.det(Q)\n",
    "det"
   ]
  },
  {
   "cell_type": "code",
   "execution_count": null,
   "metadata": {},
   "outputs": [],
   "source": []
  },
  {
   "cell_type": "markdown",
   "metadata": {},
   "source": [
    "##### Precision matrix regularized"
   ]
  },
  {
   "cell_type": "code",
   "execution_count": 9,
   "metadata": {},
   "outputs": [],
   "source": [
    "# Make the Precision Matrix Regularized\n",
    "epsilon = 1e-6  # small term to add to the diagonal\n",
    "Q_regularized = Q + epsilon * np.eye(Q.shape[0])"
   ]
  },
  {
   "cell_type": "code",
   "execution_count": 10,
   "metadata": {},
   "outputs": [],
   "source": [
    "Q_regularized=Q"
   ]
  },
  {
   "cell_type": "code",
   "execution_count": 11,
   "metadata": {},
   "outputs": [
    {
     "data": {
      "text/plain": [
       "array([[1, 1, 0, 0, 0, 0, 0, 0, 0, 0, 0, 0],\n",
       "       [1, 5, 0, 0, 0, 1, 0, 1, 0, 1, 0, 1],\n",
       "       [0, 0, 5, 1, 0, 1, 1, 1, 1, 0, 0, 0],\n",
       "       [0, 0, 1, 4, 1, 1, 0, 0, 1, 0, 0, 0],\n",
       "       [0, 0, 0, 1, 3, 1, 0, 0, 1, 0, 0, 0],\n",
       "       [0, 1, 1, 1, 1, 7, 0, 1, 1, 1, 0, 0],\n",
       "       [0, 0, 1, 0, 0, 0, 3, 0, 1, 1, 0, 0],\n",
       "       [0, 1, 1, 0, 0, 1, 0, 3, 0, 0, 0, 0],\n",
       "       [0, 0, 1, 1, 1, 1, 1, 0, 7, 1, 1, 0],\n",
       "       [0, 1, 0, 0, 0, 1, 1, 0, 1, 6, 1, 1],\n",
       "       [0, 0, 0, 0, 0, 0, 0, 0, 1, 1, 2, 0],\n",
       "       [0, 1, 0, 0, 0, 0, 0, 0, 0, 1, 0, 2]])"
      ]
     },
     "execution_count": 11,
     "metadata": {},
     "output_type": "execute_result"
    }
   ],
   "source": [
    "Q_regularized"
   ]
  },
  {
   "cell_type": "code",
   "execution_count": 12,
   "metadata": {},
   "outputs": [
    {
     "name": "stdout",
     "output_type": "stream",
     "text": [
      "The Rank of the Q regulized Matrix:  12\n",
      "The determinant of the regularized matrix:  751167.9999999993\n",
      "The Null Space of the regularized matrix: \n"
     ]
    },
    {
     "data": {
      "text/plain": [
       "array([], shape=(12, 0), dtype=float64)"
      ]
     },
     "execution_count": 12,
     "metadata": {},
     "output_type": "execute_result"
    }
   ],
   "source": [
    "print(\"The Rank of the Q regulized Matrix: \", np.linalg.matrix_rank(Q_regularized))\n",
    "\n",
    "# get the determinant of the matrix\n",
    "det = np.linalg.det(Q_regularized)\n",
    "print(\"The determinant of the regularized matrix: \", det)\n",
    "\n",
    "# Compute the Null Space V of Q\n",
    "V = null_space(Q_regularized)\n",
    "print(\"The Null Space of the regularized matrix: \")\n",
    "V\n"
   ]
  },
  {
   "cell_type": "code",
   "execution_count": 13,
   "metadata": {},
   "outputs": [
    {
     "data": {
      "text/plain": [
       "array([], shape=(12, 0), dtype=float64)"
      ]
     },
     "execution_count": 13,
     "metadata": {},
     "output_type": "execute_result"
    }
   ],
   "source": [
    "# checking the null space matrix\n",
    "Q_regularized.dot(V)"
   ]
  },
  {
   "cell_type": "code",
   "execution_count": 14,
   "metadata": {},
   "outputs": [],
   "source": [
    "# create 12 by 1 matrix\n",
    "V = np.ones((Q.shape[0], 1))"
   ]
  },
  {
   "cell_type": "code",
   "execution_count": 15,
   "metadata": {},
   "outputs": [
    {
     "data": {
      "text/plain": [
       "array([[ 2.],\n",
       "       [10.],\n",
       "       [10.],\n",
       "       [ 8.],\n",
       "       [ 6.],\n",
       "       [14.],\n",
       "       [ 6.],\n",
       "       [ 6.],\n",
       "       [14.],\n",
       "       [12.],\n",
       "       [ 4.],\n",
       "       [ 4.]])"
      ]
     },
     "execution_count": 15,
     "metadata": {},
     "output_type": "execute_result"
    }
   ],
   "source": [
    "# checking the null space matrix\n",
    "Q_regularized.dot(V)"
   ]
  },
  {
   "cell_type": "markdown",
   "metadata": {},
   "source": [
    "____________________"
   ]
  },
  {
   "cell_type": "code",
   "execution_count": 16,
   "metadata": {},
   "outputs": [],
   "source": [
    "# b matrix\n",
    "b = null_space(V.transpose())"
   ]
  },
  {
   "cell_type": "code",
   "execution_count": 17,
   "metadata": {},
   "outputs": [],
   "source": [
    "# find covariance of matrix b\n",
    "cov_b = np.cov(b)"
   ]
  },
  {
   "cell_type": "markdown",
   "metadata": {},
   "source": [
    "### Find the Cov(b| V^T b=0)"
   ]
  },
  {
   "cell_type": "code",
   "execution_count": 18,
   "metadata": {},
   "outputs": [],
   "source": [
    "A = cov_b.dot(V)"
   ]
  },
  {
   "cell_type": "code",
   "execution_count": 19,
   "metadata": {},
   "outputs": [],
   "source": [
    "# inverse of A\n",
    "B = np.linalg.inv(V.transpose().dot(cov_b).dot(V))"
   ]
  },
  {
   "cell_type": "code",
   "execution_count": 20,
   "metadata": {},
   "outputs": [],
   "source": [
    "C = V.transpose().dot(cov_b)"
   ]
  },
  {
   "cell_type": "code",
   "execution_count": 21,
   "metadata": {},
   "outputs": [],
   "source": [
    "equation = cov_b - A.dot(B).dot(C)"
   ]
  },
  {
   "cell_type": "code",
   "execution_count": 22,
   "metadata": {},
   "outputs": [],
   "source": [
    "cov_b_VTb = np.cov(equation)"
   ]
  },
  {
   "cell_type": "code",
   "execution_count": 23,
   "metadata": {},
   "outputs": [
    {
     "name": "stdout",
     "output_type": "stream",
     "text": [
      "Marginal Variances: [1.23046120e-66 8.26446281e-04 8.26446281e-04 8.26446281e-04\n",
      " 8.26446281e-04 8.26446281e-04 8.26446281e-04 8.26446281e-04\n",
      " 8.26446281e-04 8.26446281e-04 8.26446281e-04 8.26446281e-04]\n"
     ]
    }
   ],
   "source": [
    "# Extract Marginal Variances (diagonal elements of the variance-covariance matrix)\n",
    "marginal_variances = np.diag(cov_b_VTb)\n",
    "\n",
    "print(\"Marginal Variances:\", marginal_variances)"
   ]
  },
  {
   "cell_type": "code",
   "execution_count": 30,
   "metadata": {},
   "outputs": [
    {
     "name": "stdout",
     "output_type": "stream",
     "text": [
      "Marginal Variances:\n",
      "0.000000000000\n",
      "0.000826446281\n",
      "0.000826446281\n",
      "0.000826446281\n",
      "0.000826446281\n",
      "0.000826446281\n",
      "0.000826446281\n",
      "0.000826446281\n",
      "0.000826446281\n",
      "0.000826446281\n",
      "0.000826446281\n",
      "0.000826446281\n"
     ]
    }
   ],
   "source": [
    "# Format and print the marginal variances\n",
    "print(\"Marginal Variances:\")\n",
    "for variance in marginal_variances:\n",
    "    print(\"{:.12f}\".format(variance))"
   ]
  },
  {
   "cell_type": "code",
   "execution_count": 24,
   "metadata": {},
   "outputs": [
    {
     "data": {
      "text/plain": [
       "array([-151.76322708,   -7.09837564,   -7.09837564,   -7.09837564,\n",
       "         -7.09837564,   -7.09837564,   -7.09837564,   -7.09837564,\n",
       "         -7.09837564,   -7.09837564,   -7.09837564,   -7.09837564])"
      ]
     },
     "execution_count": 24,
     "metadata": {},
     "output_type": "execute_result"
    }
   ],
   "source": [
    "np.log(np.diag(cov_b_VTb))"
   ]
  },
  {
   "cell_type": "code",
   "execution_count": 25,
   "metadata": {},
   "outputs": [
    {
     "data": {
      "text/plain": [
       "1.511572043500573e-100"
      ]
     },
     "execution_count": 25,
     "metadata": {},
     "output_type": "execute_result"
    }
   ],
   "source": [
    "# get the sum of the diagonal of the covariance matrix\n",
    "sum_diag = np.exp(np.sum(np.log(np.diag(cov_b_VTb))))\n",
    "sum_diag"
   ]
  },
  {
   "cell_type": "code",
   "execution_count": 128,
   "metadata": {},
   "outputs": [
    {
     "name": "stdout",
     "output_type": "stream",
     "text": [
      "Machine epsilon: 2.220446049250313e-16\n"
     ]
    }
   ],
   "source": [
    "import sys\n",
    "\n",
    "eps = sys.float_info.epsilon\n",
    "print(\"Machine epsilon:\", eps)"
   ]
  },
  {
   "cell_type": "code",
   "execution_count": null,
   "metadata": {},
   "outputs": [],
   "source": []
  }
 ],
 "metadata": {
  "kernelspec": {
   "display_name": "TDA",
   "language": "python",
   "name": "python3"
  },
  "language_info": {
   "codemirror_mode": {
    "name": "ipython",
    "version": 3
   },
   "file_extension": ".py",
   "mimetype": "text/x-python",
   "name": "python",
   "nbconvert_exporter": "python",
   "pygments_lexer": "ipython3",
   "version": "3.11.4"
  }
 },
 "nbformat": 4,
 "nbformat_minor": 2
}
